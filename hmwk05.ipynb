{
 "cells": [
  {
   "cell_type": "markdown",
   "metadata": {},
   "source": [
    "# Homework 5: Confidence Intervals, the Bootstrap, and Autograders\n",
    "***\n",
    "\n",
    "**Name**: Javier\n",
    "\n",
    "**Section**: 001\n",
    "***\n",
    "\n",
    "This assignment is due on Moodle by **5pm on Friday November 10th**. Your solutions to theoretical questions should be done in Markdown/MathJax directly below the associated question.  Your solutions to computational questions should include any specified Python code and results as well as written commentary on your conclusions.  Remember that you are encouraged to discuss the problems with your instructors and classmates, but **you must write all code and solutions on your own**.  For a refresher on the course **Collaboration Policy** click [here](https://github.com/chrisketelsen/csci3022/blob/master/resources/syllabus.md#collaboration-policy).  \n",
    "\n",
    "**NOTES**: \n",
    "\n",
    "- Do **NOT** load or use any Python packages that are not available in Anaconda 3.6. \n",
    "- Some problems with code may be autograded.  If we provide a function API **do not** change it.  If we do not provide a function API then you're free to structure your code however you like. \n",
    "- Because you can technically evaluate notebook cells is a non-linear order, it's a good idea to do Cell $\\rightarrow$ Run All as a check before submitting your solutions.  That way if we need to run your code you will know that it will work as expected. \n",
    "- Submit only this Jupyter notebook to Moodle.  Do not compress it using tar, rar, zip, etc. "
   ]
  },
  {
   "cell_type": "code",
   "execution_count": 2,
   "metadata": {
    "scrolled": true
   },
   "outputs": [
    {
     "name": "stderr",
     "output_type": "stream",
     "text": [
      "/home/nbuser/anaconda3_410/lib/python3.5/site-packages/matplotlib/font_manager.py:273: UserWarning: Matplotlib is building the font cache using fc-list. This may take a moment.\n",
      "  warnings.warn('Matplotlib is building the font cache using fc-list. This may take a moment.')\n",
      "/home/nbuser/anaconda3_410/lib/python3.5/site-packages/matplotlib/font_manager.py:273: UserWarning: Matplotlib is building the font cache using fc-list. This may take a moment.\n",
      "  warnings.warn('Matplotlib is building the font cache using fc-list. This may take a moment.')\n"
     ]
    }
   ],
   "source": [
    "from scipy.stats import norm\n",
    "import numpy as np\n",
    "import matplotlib.pylab as plt\n",
    "import pandas as pd\n",
    "import math\n",
    "%matplotlib inline"
   ]
  },
  {
   "cell_type": "markdown",
   "metadata": {},
   "source": [
    "### [20 points] Problem 1 - Alcohol Content of Red vs White Wine \n",
    "***\n",
    "\n",
    "Load the data in $\\texttt{winequality-red.csv}$ and $\\texttt{winequality-white.csv}$ into Pandas DataFrames.  A description of this dataset can be found on [Berkeley's Machine Learning Repository](https://archive.ics.uci.edu/ml/datasets/Wine+Quality). The characteristic that we'll be interested in is the wine's alcohol content.  "
   ]
  },
  {
   "cell_type": "code",
   "execution_count": 3,
   "metadata": {},
   "outputs": [
    {
     "name": "stdout",
     "output_type": "stream",
     "text": [
      "<class 'pandas.core.frame.DataFrame'>\n",
      "RangeIndex: 1599 entries, 0 to 1598\n",
      "Data columns (total 1 columns):\n",
      "alcohol    1599 non-null float64\n",
      "dtypes: float64(1)\n",
      "memory usage: 12.6 KB\n",
      "None\n",
      "<class 'pandas.core.frame.DataFrame'>\n",
      "RangeIndex: 4898 entries, 0 to 4897\n",
      "Data columns (total 1 columns):\n",
      "alcohol    4898 non-null float64\n",
      "dtypes: float64(1)\n",
      "memory usage: 38.3 KB\n",
      "None\n"
     ]
    }
   ],
   "source": [
    "# Load the data into a DataFrame\n",
    "web_path = ('https://raw.githubusercontent.com/chrisketelsen/csci3022/master/hmwk/hmwk05/winequality-red.csv')\n",
    "dfRed = pd.read_csv(web_path, delimiter=\";\", usecols=[\"alcohol\"])\n",
    "\n",
    "web_path2 = ('https://raw.githubusercontent.com/chrisketelsen/csci3022/master/hmwk/hmwk05/winequality-white.csv')\n",
    "dfWhite = pd.read_csv(web_path2, delimiter=\";\", usecols=[\"alcohol\"])\n",
    "\n",
    "print(dfRed.info())\n",
    "print(dfWhite.info())"
   ]
  },
  {
   "cell_type": "markdown",
   "metadata": {},
   "source": [
    "**Part A**: Are we justified in using the assumptions of the Central Limit Theorem in our analysis of estimates of the mean of the data?  Justify your response. "
   ]
  },
  {
   "cell_type": "markdown",
   "metadata": {
    "collapsed": true
   },
   "source": [
    "We are justified in using the assumptions of the Central Limit Theorem in our analysis of estimates of the mean of the data. The alcohol content tables for the red wine has 1599 non-null entries and white wine has 4898 non-null entries. The number of entries n is large enough, that the distribution mean of the data head toward a normal distribution. Thus, we are justified to use the Central Limit Theorem."
   ]
  },
  {
   "cell_type": "markdown",
   "metadata": {},
   "source": [
    "**Part B**: Compute a 95% confidence interval for the mean of the red wine's alcohol content.  Separately, compute a 95% confidence interval for the mean of the white wine's alcohol content. Do all computations in Python. "
   ]
  },
  {
   "cell_type": "code",
   "execution_count": 4,
   "metadata": {},
   "outputs": [
    {
     "name": "stdout",
     "output_type": "stream",
     "text": [
      "Red wines mean alcohol content: 10.422983114446502\n",
      "Red wines standard deviation of alcohol content: 1.0656675818473926\n",
      "Red wines 95% Confidence interval of alcohol content: [10.370750037060759, 10.475216191832246]\n"
     ]
    }
   ],
   "source": [
    "za = norm.ppf(.975)\n",
    "rMean = dfRed[\"alcohol\"].mean()\n",
    "rStd =  dfRed[\"alcohol\"].std()\n",
    "rC = dfRed[\"alcohol\"].count()\n",
    "rCI = [rMean - za * (rStd/np.sqrt(rC)), rMean + za * (rStd/np.sqrt(rC))]\n",
    "print(\"Red wines mean alcohol content:\", rMean)\n",
    "print(\"Red wines standard deviation of alcohol content:\", rStd)\n",
    "print(\"Red wines 95% Confidence interval of alcohol content:\", rCI)"
   ]
  },
  {
   "cell_type": "code",
   "execution_count": 5,
   "metadata": {},
   "outputs": [
    {
     "name": "stdout",
     "output_type": "stream",
     "text": [
      "White wines mean alcohol content: 10.514267047774638\n",
      "White wines standard deviation of alcohol content: 1.2306205677573183\n",
      "White wines 95% Confidence interval of alcohol content: [10.479803270898106, 10.54873082465117]\n"
     ]
    }
   ],
   "source": [
    "za = norm.ppf(.975)\n",
    "wMean = dfWhite[\"alcohol\"].mean()\n",
    "wStd =  dfWhite[\"alcohol\"].std()\n",
    "wC = dfWhite[\"alcohol\"].count()\n",
    "wCI = [wMean - za * (wStd/np.sqrt(wC)), wMean + za * (wStd/np.sqrt(wC))]\n",
    "print(\"White wines mean alcohol content:\", wMean)\n",
    "print(\"White wines standard deviation of alcohol content:\", wStd)\n",
    "print(\"White wines 95% Confidence interval of alcohol content:\", wCI)"
   ]
  },
  {
   "cell_type": "markdown",
   "metadata": {},
   "source": [
    "**Part C**: Compute the 95% confidence interval for the difference between the means of the alcohol content of red and white wine. "
   ]
  },
  {
   "cell_type": "code",
   "execution_count": 6,
   "metadata": {},
   "outputs": [
    {
     "name": "stdout",
     "output_type": "stream",
     "text": [
      "The difference between the means alcohol content of red and white wine: -0.09128393332813545\n",
      "95% Confidence interval of difference between means of red and white wine's alcohol content: [-0.15386225457263999, -0.028705612083630899]\n"
     ]
    }
   ],
   "source": [
    "red_white_diff = (rMean-wMean)\n",
    "print(\"The difference between the means alcohol content of red and white wine:\", red_white_diff)\n",
    "lower = red_white_diff - za * (np.sqrt((wStd**2/wC) + (rStd**2/rC)))\n",
    "higher = red_white_diff + za * (np.sqrt((wStd**2/wC) + (rStd**2/rC)))\n",
    "red_white_diff_CI =[lower, higher]\n",
    "print(\"95% Confidence interval of difference between means of red and white wine's alcohol content:\", red_white_diff_CI)"
   ]
  },
  {
   "cell_type": "markdown",
   "metadata": {},
   "source": [
    "**Part D**: Interpret the confidence interval you computed in **Part C** in one or two sentences.  Can you say that it's likely that there is a difference in mean alcohol content between red and white wine?  "
   ]
  },
  {
   "cell_type": "markdown",
   "metadata": {
    "collapsed": true
   },
   "source": [
    "The confidence interval we computed in part C for the difference in the means of alcohol content of red and white wine is not zero, there is a differnce in mean alcohol content between the red and white wine. Therefore, since we are substract the mean alcohol content of both wines (white - red) and the confidence interval is in the negative values. I'm confident that with 95% confidence the white wine has higher alcohol content."
   ]
  },
  {
   "cell_type": "markdown",
   "metadata": {},
   "source": [
    "### [15 points] Problem 2: Election Polling\n",
    "***\n",
    "\n",
    "On the eve of an important senate seat election, a pollster polls a simple random sample of the population and asks which candidate they plan to vote for on the following day. In particular, the pollster asks if the respondents plan to vote for Candidate A, Candidate B, or some other candidate.  The results of the poll can be found in the following table: \n",
    "\n",
    "\\begin{array}{ccc}\n",
    "\\hline \n",
    "\\textrm{Candidate A} & \\textrm{Candidate B} & \\textrm{Other} \\\\\n",
    "\\hline \n",
    "1204 & 1099 & 205  \\\\\n",
    "\\hline \n",
    "\\end{array}\n",
    "\n",
    "**Part A**: Poll results are typically reported as a predicted **percentage** of the electorate plus or minus a margin of error, i.e. $\\texttt{percentage} \\pm \\texttt{margin}$.  Express the poll results for Candidates A and B in the specified format at the 95% confidence level. "
   ]
  },
  {
   "cell_type": "markdown",
   "metadata": {},
   "source": [
    "95% = $\\alpha$ = 0.05 $\\rightarrow Z_{\\alpha/2} = Z_{0.025} \\rightarrow 1.96$\n",
    "\n",
    "Candidate A: $$\\bar{p} = 1204/2508 \\rightarrow 0.48 *100(percentage) = 48.0$$ \n",
    "\n",
    "Candidate B: $$\\bar{p} = 1099/2508 \\rightarrow 0.438*100(percentage) = 43.8$$\n",
    "\n",
    "Candidate A: $$48.0 +- Z_{0.025} * \\sqrt{\\frac{48.0(1-48.0)}{2508}}$$\n",
    "\n",
    "Candidate B: $$43.8 +- Z_{0.025} * \\sqrt{\\frac{43.8(1-43.8)}{2508}}$$\n",
    "\n",
    "Candidate A: 48.0 +- 1.9553 \n",
    "\n",
    "Candidate B: 43.8 +- 1.9418"
   ]
  },
  {
   "cell_type": "code",
   "execution_count": 7,
   "metadata": {},
   "outputs": [
    {
     "name": "stdout",
     "output_type": "stream",
     "text": [
      "Candidate A: 48.006379585326954 +- 1.9552794323571352\n",
      "Candidate B: 43.81977671451356 +- 1.9418296833487843\n"
     ]
    }
   ],
   "source": [
    "A = 1204 \n",
    "B = 1099 \n",
    "C = 205\n",
    "Z = norm.ppf(.975)\n",
    "n = A + B + C\n",
    "Arat = A / n\n",
    "A_perc_marg = Z * math.sqrt(Arat * (1 - Arat) / n)\n",
    "A_Lower = Arat - (Z * math.sqrt(Arat * (1 - Arat) / n))\n",
    "A_higher = Arat + (Z * math.sqrt(Arat * (1 - Arat) / n))\n",
    "Brat = B / n\n",
    "B_perc_marg = Z * math.sqrt(Brat * (1 - Brat) / n)\n",
    "B_Lower = Brat - (Z * math.sqrt(Brat * (1 - Brat) / n))\n",
    "B_higher = Brat + (Z * math.sqrt(Brat * (1 - Brat) / n))\n",
    "print(\"Candidate A: {} +- {}\".format(Arat*100, A_perc_marg*100))\n",
    "print(\"Candidate B: {} +- {}\".format(Brat*100, B_perc_marg*100))"
   ]
  },
  {
   "cell_type": "markdown",
   "metadata": {},
   "source": [
    "**Part B**: Express the poll results as 95% confidence intervals.  Based on these results, would it be responsible for a newspaper to definitely call the election for a particular candidate? Clearly justify your response. "
   ]
  },
  {
   "cell_type": "markdown",
   "metadata": {
    "collapsed": true
   },
   "source": [
    "$Z_{\\alpha/2} = Z_{0.025} \\rightarrow 1.96$\n",
    "\n",
    "Candidate A: $$48.0 +- Z_{0.025} * \\sqrt{\\frac{48.0(1-48.0)}{2508}} \\rightarrow [46.0447, 49.9553]$$\n",
    "\n",
    "Candidate B: $$43.8 +- Z_{0.025} * \\sqrt{\\frac{43.8(1-43.8)}{2508}} \\rightarrow [41.8582, 45.7418]$$\n",
    "\n",
    "The two confidence intervals between candidate A and B don't fall in the same region. The candidate with the higher confidence interval would win. In this case candidate A would win. Thus it would be reponsible for a newspaper to definitely call the election for candidate A. "
   ]
  },
  {
   "cell_type": "code",
   "execution_count": 8,
   "metadata": {},
   "outputs": [
    {
     "name": "stdout",
     "output_type": "stream",
     "text": [
      "Candidate A 95% confidence intervals: [46.051100152969816, 49.96165901768409]\n",
      "Candidate B 95% confidence intervals: [41.87794703116477, 45.761606397862344]\n"
     ]
    }
   ],
   "source": [
    "print(\"Candidate A 95% confidence intervals: [{}, {}]\".format(A_Lower*100, A_higher*100))\n",
    "print(\"Candidate B 95% confidence intervals: [{}, {}]\".format(B_Lower*100, B_higher*100))"
   ]
  },
  {
   "cell_type": "markdown",
   "metadata": {},
   "source": [
    "**Part C**: In the run-up to the next election, the pollster is designing a poll of a city council race between two relatively unknown candidates.  Without having any prior data, how many respondents does the pollster need responses from to guarantee that she will get at most a 2% margin of error at the 95% confidence level? Be sure to **clearly** justify your reasoning.  \n",
    "\n",
    "**Hint**: Recall that when computing confidence intervals for proportions we use the actual sample proportions to approximate the variance.  How can you get a worst-case scenario estimate of the variance when the sample proportion is not known _a priori_? \n"
   ]
  },
  {
   "cell_type": "markdown",
   "metadata": {
    "collapsed": true
   },
   "source": [
    "p = 0.5 would be the worst case, so we compute $$0.02 = Z_{0.975}*\\sqrt{\\frac{p*(1-p)}{n}}$$  \n",
    "$$0.02 = 1.96*\\sqrt{\\frac{0.5*(1-0.5)}{n}}$$\n",
    "\n",
    "$$\\frac{0.02}{1.96} = \\sqrt{\\frac{0.25}{n}}$$\n",
    "\n",
    "$$n=\\frac{0.25}{(\\frac{0.02}{1.96})^2} \\rightarrow 49^2 \\rightarrow 2401$$\n",
    "\n",
    "The pollster would need a min of n=2401 samples to guarantee a 2% margin of error at the 95% confidence level."
   ]
  },
  {
   "cell_type": "markdown",
   "metadata": {},
   "source": [
    "### [15 points] Problem 3 - Have Opinions on Marijuana Legalization Changed? \n",
    "***\n",
    "\n",
    "The General Social Survey (GSS) has been collecting demographic, behavioral, and attitudinal information since 1972 to monitor changes within the US and to compare the US to other nations. Support for the legalization of marijuana in the US is shown for 2010 and in 2016 in the following table:\n",
    "\n",
    "\n",
    "\\begin{array}{cccc}\n",
    "\\hline\n",
    "\\textrm{Year} & \\textrm{Favor} & \\textrm{Oppose} & \\textrm{Total} \\\\ \n",
    "\\hline\n",
    "\\textrm{2010} & \\textrm{603} & \\textrm{656} & \\textrm{1259} \\\\\n",
    "\\textrm{2016} & \\textrm{1126} & \\textrm{717} & \\textrm{1843} \\\\\n",
    "\\hline\n",
    "\\end{array}\n",
    "\n",
    "\n",
    "**Part A**: Find a 95% confidence interval for the change in the proportion supporting marijuana legalization from 2010 to 2016. Use Python for all computations and show your work. "
   ]
  },
  {
   "cell_type": "code",
   "execution_count": 23,
   "metadata": {},
   "outputs": [
    {
     "name": "stdout",
     "output_type": "stream",
     "text": [
      "[0.09655644289791579, 0.16746124074027999]\n"
     ]
    }
   ],
   "source": [
    "total_of_2016 = 1843\n",
    "stats_of_2016 = 1126/total_of_2016\n",
    "total_of_2010 = 1259\n",
    "stats_of_2010 = 603/total_of_2010\n",
    "z = norm.ppf(0.975)\n",
    "Lower = (stats_of_2016-stats_of_2010)-(z*np.sqrt(((stats_of_2016*(1-stats_of_2016))/total_of_2016)+((stats_of_2010*(1-stats_of_2010))/total_of_2010)))\n",
    "Higher = (stats_of_2016-stats_of_2010)+(z*np.sqrt(((stats_of_2016*(1-stats_of_2016))/total_of_2016)+((stats_of_2010*(1-stats_of_2010))/total_of_2010)))\n",
    "CI = [Lower, Higher]\n",
    "print(CI)"
   ]
  },
  {
   "cell_type": "markdown",
   "metadata": {},
   "source": [
    "**Part B**: Is it likely that the proportion supporting marijuana legalization changed between 2010 and 2016? Justify your conclusion using the ideas of statistical inference and your results from **Part A**. "
   ]
  },
  {
   "cell_type": "markdown",
   "metadata": {
    "collapsed": true
   },
   "source": [
    "Yes, because zero is not in the confidence interval calculated from the difference in the proportions from the two years, thus we are certain that the two proportion are different. When we got the difference of the lower bound and upper bound it was posative for both, thus we can prove with some confidence that 2016's proportion that supported legalization was larger."
   ]
  },
  {
   "cell_type": "markdown",
   "metadata": {},
   "source": [
    "### [20 points] Problem 4 - Exploring Confidence Intervals \n",
    "***\n",
    "\n",
    "The so-called [Chi-squared](https://en.wikipedia.org/wiki/Chi-squared_distribution) distribution is important in several statistical tests.  It's also fairly asymmetric, and thus interesting for investigating confidence intervals.  It is implemented in scipy.stats as [chi2](https://docs.scipy.org/doc/scipy-0.19.1/reference/generated/scipy.stats.chi2.html). \n"
   ]
  },
  {
   "cell_type": "code",
   "execution_count": 10,
   "metadata": {
    "collapsed": true
   },
   "outputs": [],
   "source": [
    "from scipy.stats import chi2"
   ]
  },
  {
   "cell_type": "markdown",
   "metadata": {},
   "source": [
    "**Part A**: Complete the following code cell to plot a histogram of realizations from the Chi-squared distribution with parameter $K=3$. "
   ]
  },
  {
   "cell_type": "code",
   "execution_count": 11,
   "metadata": {
    "scrolled": false
   },
   "outputs": [
    {
     "data": {
      "image/png": "[encoded data removed]",
      "text/plain": [
       "<matplotlib.figure.Figure at 0x7f8ffba4f6a0>"
      ]
     },
     "metadata": {},
     "output_type": "display_data"
    }
   ],
   "source": [
    "k = 3 \n",
    "x = chi2.rvs(k, size=15000)\n",
    "m = pd.Series(x)\n",
    "fig, ax = plt.subplots(nrows=1, ncols=1, figsize=(12,6))\n",
    "m.hist(ax=ax, bins = 20, color = \"orange\")\n",
    "ax.set_axisbelow(True)"
   ]
  },
  {
   "cell_type": "markdown",
   "metadata": {},
   "source": [
    "**Part B**: Look up the mean and variance of the Chi-squared distribution with parameter $k=3$ and report them here. "
   ]
  },
  {
   "cell_type": "markdown",
   "metadata": {
    "collapsed": true
   },
   "source": [
    "The mean of Chi-squared distribution is k, when the case is k=3,\n",
    "$$\\mu = 3$$\n",
    "The variance of Chi-squared of the distribution is 2k, in this case,\n",
    "$$\\sigma^2 = 6$$"
   ]
  },
  {
   "cell_type": "markdown",
   "metadata": {},
   "source": [
    "**Part C**: In this part you'll write a function to investigate the _coverage properties_ of a confidence interval for the mean of the Chi-squared distribution. Complete the following function to randomly sample $m=500$ sample means with sample size $n=100$ for the Chi-squared distribution with parameter $k=3$.  For each random sample, compute the 95% confidence interval for the mean.  Your function should do two things: \n",
    "\n",
    "1. Report the proportion of confidence intervals that successfully cover the true mean of the distribution \n",
    "2. Make a plot of 50 randomly selected confidence intervals. Overlay the intervals on the line $y=\\mu$ where $\\mu$ is the true mean of the distribution. Color confidence intervals black if they cover the true mean, and red if they don't.  "
   ]
  },
  {
   "cell_type": "code",
   "execution_count": 12,
   "metadata": {
    "scrolled": false
   },
   "outputs": [
    {
     "name": "stdout",
     "output_type": "stream",
     "text": [
      "Proportion of confidence intervals that successfully covered the true mean is 0.932\n"
     ]
    },
    {
     "data": {
      "image/png": "[encoded data removed]",
      "text/plain": [
       "<matplotlib.figure.Figure at 0x7f8fc36c02e8>"
      ]
     },
     "metadata": {},
     "output_type": "display_data"
    }
   ],
   "source": [
    "def confidence_intervals(m=500, n=100):\n",
    "    fig, ax = plt.subplots(nrows=1, ncols=1, figsize=(12,6))\n",
    "    chi2_Mean = np.zeros(m)\n",
    "    z = norm.ppf(0.975)\n",
    "    CI_Succ = 0\n",
    "    chi2_Std = np.zeros(m)\n",
    "    for i in range(m):\n",
    "        u = chi2.rvs(k, size = n)\n",
    "        chi2_Mean[i] = u.mean()\n",
    "        chi2_Std[i] = u.std()\n",
    "        squareVal = z*(chi2_Std[i]/np.sqrt(n))\n",
    "        Cent_inter_lower = chi2_Mean[i] - squareVal\n",
    "        Cent_inter_upper = chi2_Mean[i] + squareVal\n",
    "        if Cent_inter_upper >= 3  and Cent_inter_lower <= 3:\n",
    "            CI_Succ = CI_Succ + 1\n",
    "    print(\"Proportion of confidence intervals that successfully covered the true mean is\", CI_Succ/m)\n",
    "    index = np.random.choice(500, 50, replace=False)\n",
    "    for i in range(len(index)):\n",
    "        current = index[i]\n",
    "        squareVal2 = z*(chi2_Std[current]/np.sqrt(n))\n",
    "        Cent_inter_lower = chi2_Mean[current] - squareVal2\n",
    "        Cent_inter_upper = chi2_Mean[current] + squareVal2\n",
    "        color = \"red\"\n",
    "        if Cent_inter_lower <= 3 and Cent_inter_upper >= 3:\n",
    "            color =\"black\"\n",
    "        ax.plot([i,i], [Cent_inter_lower, Cent_inter_upper], color=color)\n",
    "    param = 3\n",
    "    ax.plot([-5,55], [param,param], color = \"blue\", ls = \"-\", lw = param)\n",
    "confidence_intervals()"
   ]
  },
  {
   "cell_type": "markdown",
   "metadata": {},
   "source": [
    "**Part D**: Does the proportion of confidence intervals that cover the true mean of the distribution agree with the theory described in class?  Justify your conclusion. "
   ]
  },
  {
   "cell_type": "markdown",
   "metadata": {
    "collapsed": true
   },
   "source": [
    "Yes, since the 95% of the confidence intervals at a 95% confidence level will be enough for the true mean of the distribution. From the proportion from part C it was about 95% of the confidence interval for the 50 randomly selected and 500 calculated."
   ]
  },
  {
   "cell_type": "markdown",
   "metadata": {},
   "source": [
    "### [20 points] Problem 5 - Bootstrapped Confidence Intervals \n",
    "***\n",
    "\n",
    "An important feature in online advertising is the so-called _dwell time_, or the amount of time that a user spends viewing a particular piece of content. The data in dwell_times.csv contains the dwell times (in minutes) for 500 randomly selected users viewing an article on a website.  \n"
   ]
  },
  {
   "cell_type": "markdown",
   "metadata": {},
   "source": [
    "**Part A**: Read in the data from dwell_times.csv and create a frequency histogram with 20 bins. "
   ]
  },
  {
   "cell_type": "code",
   "execution_count": 13,
   "metadata": {},
   "outputs": [
    {
     "name": "stdout",
     "output_type": "stream",
     "text": [
      "   dwell time\n",
      "0   17.048369\n",
      "1    7.543789\n",
      "2    2.386859\n",
      "3    9.736935\n",
      "4    4.491619\n"
     ]
    },
    {
     "data": {
      "text/plain": [
       "array([[<matplotlib.axes._subplots.AxesSubplot object at 0x7f8fc3691390>]], dtype=object)"
      ]
     },
     "execution_count": 13,
     "metadata": {},
     "output_type": "execute_result"
    },
    {
     "data": {
      "image/png": "[encoded data removed]",
      "text/plain": [
       "<matplotlib.figure.Figure at 0x7f8fc6ebf630>"
      ]
     },
     "metadata": {},
     "output_type": "display_data"
    }
   ],
   "source": [
    "web_path2 = ('https://raw.githubusercontent.com/chrisketelsen/csci3022/master/hmwk/hmwk05/dwell_times.csv')\n",
    "dfDwell = pd.read_csv(web_path2)\n",
    "\n",
    "print(dfDwell.head())\n",
    "dfDwell.hist(bins = 20)"
   ]
  },
  {
   "cell_type": "markdown",
   "metadata": {},
   "source": [
    "**Part B**: Complete the function dwell_mean below to create an empirical bootstrapped confidence interval at the 95% confidence level for the mean dwell time.  Use at least 5000 bootstrap resamples. In addition to returning the confidence interval, your function should also plot a histogram of the bootstrap resample means, along with some graphical representation of the 95% confidence interval. "
   ]
  },
  {
   "cell_type": "code",
   "execution_count": 14,
   "metadata": {},
   "outputs": [
    {
     "data": {
      "text/plain": [
       "array([ 8.05578671,  8.86767084])"
      ]
     },
     "execution_count": 14,
     "metadata": {},
     "output_type": "execute_result"
    },
    {
     "data": {
      "image/png": "[encoded data removed]",
      "text/plain": [
       "<matplotlib.figure.Figure at 0x7f8fc349a128>"
      ]
     },
     "metadata": {},
     "output_type": "display_data"
    }
   ],
   "source": [
    "def dwell_mean(df, num_boots=5000, isPlot=False):\n",
    "    Dwell_mean = np.zeros(num_boots)\n",
    "    for ii in range(num_boots):\n",
    "        Dwell_mean[ii] = np.mean(np.random.choice(df[\"dwell time\"], size=len(df), replace = True))\n",
    "    L = np.percentile(Dwell_mean, 2.5)\n",
    "    U = np.percentile(Dwell_mean, 97.5)\n",
    "    \n",
    "    CI = np.array([L,U])\n",
    "    \n",
    "    if isPlot: \n",
    "        fig, ax = plt.subplots(nrows=1, ncols=1, figsize=(12,6))\n",
    "        pd.Series(Dwell_mean).hist(ax=ax, color=\"steelblue\", bins=20, edgecolor=\"white\")\n",
    "        ax.grid(alpha=0.25)\n",
    "        plt.axvline(x=L, color=\"green\", linestyle=\"-\")\n",
    "        plt.axvline(x=U, color=\"green\", linestyle=\"-\")\n",
    "        ax.set_axisbelow(True)\n",
    "    \n",
    "    return CI \n",
    "\n",
    "dwell_mean(dfDwell, isPlot=True)"
   ]
  },
  {
   "cell_type": "markdown",
   "metadata": {},
   "source": [
    "**Part C**: Suppose you are told that the actual dwell times in dwell_times.csv were sampled from a [LogNormal]() distribution with parameters $\\mu=2$ and $\\sigma^2 = \\frac{1}{4}$. Go to the linked Wiki page and read about the LogNormal distribution.  Then compute the exact **mean**, **median**, and **standard deviation** of the distribution for the given parameters and report them here. "
   ]
  },
  {
   "cell_type": "markdown",
   "metadata": {
    "collapsed": true
   },
   "source": [
    "According to the Wikipedia:\n",
    "Mean of the LogNormal distribution is:\n",
    "$$\n",
    "e^{\\mu + \\frac{\\sigma^2}{2}} = e^{2 + \\frac{1}{8}} = e^{\\frac{17}{8}} = 8.373\n",
    "$$\n",
    "\n",
    "Median of the LogNormal distribution is:\n",
    "\n",
    "$$\n",
    "e^\\mu = e^2 = 7.389\n",
    "$$\n",
    "Standard Deviation of the LogNormal distribution is:\n",
    "$$\n",
    "\\sqrt{(e^{\\sigma ^{2}}-1)e^{2\\mu +\\sigma ^{2}}} =  \\sqrt{(e^{\\frac{1}{4}}-1)e^{2(2) +\\frac{1}{4}}} = \\sqrt{(0.284)(70.105)} = \\sqrt{19.912} = 4.462\n",
    "$$"
   ]
  },
  {
   "cell_type": "markdown",
   "metadata": {},
   "source": [
    "**Part D**: Use the true standard deviation of the distribution to compute a traditional 95% confidence interval for the sample mean of the dwell time data.  Compare the traditional 95% confidence interval to the bootstrapped 95% confidence interval. Do both confidence intervals cover the true mean?  Do both confidence intervals have roughly the same width?   "
   ]
  },
  {
   "cell_type": "code",
   "execution_count": 15,
   "metadata": {},
   "outputs": [
    {
     "name": "stdout",
     "output_type": "stream",
     "text": [
      "[8.0540134879638412, 8.836266891461138]\n"
     ]
    }
   ],
   "source": [
    "xbar = np.mean(dfDwell[\"dwell time\"])\n",
    "Std = np.sqrt(((np.e**(1/4))-1)*(np.e**((2*2)+(1/4))))\n",
    "n = len(dfDwell[\"dwell time\"])\n",
    "z = norm.ppf(0.975)\n",
    "S = Std/np.sqrt(n)\n",
    "CI =[xbar - z*S, xbar + z*S]\n",
    "print(CI)"
   ]
  },
  {
   "cell_type": "markdown",
   "metadata": {},
   "source": [
    "For both the bootstrapped confidence interval from part B and part D, do cover the true mean of 8.373, they also have about the same width."
   ]
  },
  {
   "cell_type": "markdown",
   "metadata": {},
   "source": [
    "**Part E**: Complete the function dwell_stdev below to create an empirical bootstrapped confidence interval at the 95% confidence level for the standard deviation of dwell time.  Use at least 5000 bootstrapped resamples. In addition to returning the confidence interval, your function should also plot a histogram of the bootstrap resample standard deviations including some graphical indication of the 95% confidence interval.  "
   ]
  },
  {
   "cell_type": "code",
   "execution_count": 16,
   "metadata": {},
   "outputs": [
    {
     "data": {
      "text/plain": [
       "array([ 4.04432087,  5.11081068])"
      ]
     },
     "execution_count": 16,
     "metadata": {},
     "output_type": "execute_result"
    },
    {
     "data": {
      "image/png": "[encoded data removed]",
      "text/plain": [
       "<matplotlib.figure.Figure at 0x7f8fc343ab38>"
      ]
     },
     "metadata": {},
     "output_type": "display_data"
    }
   ],
   "source": [
    "def dwell_stdev(df, num_boots=5000, isPlot=False):\n",
    "    Dwell_Stan = np.zeros(num_boots)\n",
    "    for ii in range(num_boots):\n",
    "        Dwell_Stan[ii] = np.std(np.random.choice(df[\"dwell time\"], size=len(df), replace = True))\n",
    "    L = np.percentile(Dwell_Stan, 2.5)\n",
    "    U = np.percentile(Dwell_Stan, 97.5)\n",
    "    \n",
    "    CI = np.array([L,U])\n",
    "    \n",
    "    if isPlot: \n",
    "        fig, ax = plt.subplots(nrows=1, ncols=1, figsize=(12,6))\n",
    "        pd.Series(Dwell_Stan).hist(ax=ax, color=\"steelblue\", bins=20, edgecolor=\"white\")\n",
    "        ax.grid(alpha=0.25)\n",
    "        plt.axvline(x=L, color=\"green\", linestyle=\"-\")\n",
    "        plt.axvline(x=U, color=\"green\", linestyle=\"-\")\n",
    "        ax.set_axisbelow(True)\n",
    "    \n",
    "    return CI \n",
    "\n",
    "dwell_stdev(df=dfDwell, isPlot=True)"
   ]
  },
  {
   "cell_type": "markdown",
   "metadata": {},
   "source": [
    "**Part F**: Does the true standard deviation of the distribution fall inside your 95% bootstrapped confidence interval? "
   ]
  },
  {
   "cell_type": "markdown",
   "metadata": {
    "collapsed": true
   },
   "source": [
    "The true standard deviation of the distribition (4.462 from part C) does fall in the 95% bootstrapped confidence interval."
   ]
  },
  {
   "cell_type": "markdown",
   "metadata": {},
   "source": [
    "**Part G**: Complete the function dwell_med below to create an empirical bootstrapped confidence interval at the 95% confidence level for the median dwell time.  Use at least 5000 bootstrap resamples. In addition to returning the confidence interval, your function should also plot a histogram of the bootstrap resample medians including some graphical indication of the 95% confidence interval.  "
   ]
  },
  {
   "cell_type": "code",
   "execution_count": 17,
   "metadata": {},
   "outputs": [
    {
     "data": {
      "text/plain": [
       "array([ 7.0346082 ,  8.03146165])"
      ]
     },
     "execution_count": 17,
     "metadata": {},
     "output_type": "execute_result"
    },
    {
     "data": {
      "image/png": "[encoded data removed]",
      "text/plain": [
       "<matplotlib.figure.Figure at 0x7f8fc3371da0>"
      ]
     },
     "metadata": {},
     "output_type": "display_data"
    }
   ],
   "source": [
    "def dwell_med(df, num_boots=5000, isPlot=False):\n",
    "    Dwell_Med = np.zeros(num_boots)\n",
    "    for ii in range(num_boots):\n",
    "        Dwell_Med[ii] = np.median(np.random.choice(df[\"dwell time\"], size=len(df), replace = True))\n",
    "    L = np.percentile(Dwell_Med, 2.5)\n",
    "    U = np.percentile(Dwell_Med, 97.5)\n",
    "    \n",
    "    CI = np.array([L,U])\n",
    "    \n",
    "    if isPlot: \n",
    "        fig, ax = plt.subplots(nrows=1, ncols=1, figsize=(12,6))\n",
    "        pd.Series(Dwell_Med).hist(ax=ax, color=\"steelblue\", bins=20, edgecolor=\"white\")\n",
    "        ax.grid(alpha=0.25)\n",
    "        plt.axvline(x=L, color=\"green\", linestyle=\"-\")\n",
    "        plt.axvline(x=U, color=\"green\", linestyle=\"-\")\n",
    "        ax.set_axisbelow(True)\n",
    "    \n",
    "    return CI \n",
    "\n",
    "dwell_med(dfDwell, isPlot=True)"
   ]
  },
  {
   "cell_type": "markdown",
   "metadata": {},
   "source": [
    "**Part H**: Does the true median of the distribution fall inside your 95% bootstrapped confidence interval? "
   ]
  },
  {
   "cell_type": "markdown",
   "metadata": {
    "collapsed": true
   },
   "source": [
    "From part C the true median is 7.389 which does fall inside the 95% bootstrapped confidence interval."
   ]
  },
  {
   "cell_type": "markdown",
   "metadata": {},
   "source": [
    "### [15 points] Problem 6 - Autograding Simulation Homework \n",
    "***\n",
    "\n",
    "Suppose that you are the grader for an Introduction to Data Science course and your boss has asked you to write an autograder for a homework problem on simulation.  Specifically, students have been asked to write a simulation to estimate the expected number of rolls it will take until doubles are rolled with a pair of fair, six-sided dice (i.e. until both dice show the same value).  The students have been asked to structure their code so that it runs many trials of the experiment and returns the sample mean of the trials, as well as an array containing the result of each individual trial. \n",
    "\n",
    "The solutions submitted by three students in the course are given below. "
   ]
  },
  {
   "cell_type": "code",
   "execution_count": 18,
   "metadata": {
    "collapsed": true
   },
   "outputs": [],
   "source": [
    "def student1(num_trials=5000):\n",
    "    t = np.zeros(num_trials)\n",
    "    for ii in range(num_trials):\n",
    "        ctr = 0\n",
    "        while np.random.choice([1,2,3,4,5,6]) != np.random.choice([1,2,3,4,5,6]):\n",
    "            ctr += 1 \n",
    "        t[ii] = ctr \n",
    "    return np.mean(t), t\n",
    "\n",
    "def student2(num_trials=5000):\n",
    "    t = np.zeros(num_trials)\n",
    "    for ii in range(num_trials):\n",
    "        ctr = 1\n",
    "        while int(6*np.random.uniform(0,1)+1) != int(6*np.random.uniform(0,1)+1):\n",
    "            ctr += 1 \n",
    "        t[ii] = ctr \n",
    "    return np.mean(t), t\n",
    "\n",
    "def student3(num_trials=5000):\n",
    "    t = np.random.exponential(6, size=num_trials)\n",
    "    return np.mean(t), t "
   ]
  },
  {
   "cell_type": "markdown",
   "metadata": {},
   "source": [
    "Now, you landed this job at the last minute, and your probability theory is a little rusty.  Luckily, your boss has given you her solution to the problem which is shown below: "
   ]
  },
  {
   "cell_type": "code",
   "execution_count": 19,
   "metadata": {
    "collapsed": true
   },
   "outputs": [],
   "source": [
    "def prof(num_trials=5000):\n",
    "    t = np.random.geometric(1/6, size=num_trials)\n",
    "    return np.mean(t), t"
   ]
  },
  {
   "cell_type": "markdown",
   "metadata": {},
   "source": [
    "Knowing that your probability theory is rusty, your boss has suggested that your autograder be constructed solely based on confidence intervals to compare the students' estimates of the expected value of the experiment to her own estimate.  Finally, although there are only examples from three students above, there are actually more than 100 students in the course, so tailoring your tests to features of individual students' code is out of the question. \n",
    "\n",
    "**Part A**: Complete the function autograder below, which takes in the realizations of the trials from your professor's code and one of the students' codes, as well as the $\\alpha$ for a $100(1-\\alpha)\\%$ confidence interval and returns a string indicating whether the student passed or failed the test. **Clearly** indicate what statistical test(s) your autograder is using and why this is a good idea.  Then demonstrate the use of your autograder to grade the three student solutions above based on a 95% confidence level. "
   ]
  },
  {
   "cell_type": "code",
   "execution_count": 20,
   "metadata": {},
   "outputs": [
    {
     "name": "stdout",
     "output_type": "stream",
     "text": [
      "Student 1 Failed\n",
      "Student 2 Passed\n",
      "Student 3 Passed\n"
     ]
    }
   ],
   "source": [
    "def autograder(pf, st, alpha=0.05):\n",
    "    mean_Stud_Trials, studentTrials = st\n",
    "    mean_Prof_Trials, profTrials = pf\n",
    "    z=norm.ppf(0.975)\n",
    "    std_Stud_Trials = studentTrials.std()\n",
    "    std_Prof_Trials = profTrials.std()\n",
    "    num_Stud_Trials = len(studentTrials)\n",
    "    numProfTrials = len(profTrials)\n",
    "    CI_L = (mean_Stud_Trials-mean_Prof_Trials)-(z*np.sqrt(((std_Stud_Trials**2)/num_Stud_Trials)+((std_Prof_Trials**2)/numProfTrials)))\n",
    "    CI_U = (mean_Stud_Trials-mean_Prof_Trials)+(z*np.sqrt(((std_Stud_Trials**2)/num_Stud_Trials)+((std_Prof_Trials**2)/numProfTrials)))\n",
    "    CI = [CI_L, CI_U]\n",
    "    if min(CI) <= 0 and max(CI) >= 0:\n",
    "        return \"Passed\"\n",
    "    else:\n",
    "        return \"Failed\"\n",
    "print(\"Student 1\", autograder(prof(), student1()))\n",
    "\n",
    "print(\"Student 2\", autograder(prof(), student2()))\n",
    "\n",
    "print(\"Student 3\", autograder(prof(), student3()))"
   ]
  },
  {
   "cell_type": "markdown",
   "metadata": {},
   "source": [
    "**[Extra Credit] Part B**: You realize that tests based solely on the estimate of the mean are not robust.  Come up with a better autograder that, again using tests based on confidence intervals, compares the students' solutions to the professor's solutions on statistical properties beyond just the mean. Again, **clearly** motivate the features of your autograder based on theory developed in class.    "
   ]
  },
  {
   "cell_type": "code",
   "execution_count": null,
   "metadata": {
    "collapsed": true
   },
   "outputs": [],
   "source": []
  }
 ],
 "metadata": {
  "kernelspec": {
   "display_name": "Python 3",
   "language": "python",
   "name": "python3"
  },
  "language_info": {
   "codemirror_mode": {
    "name": "ipython",
    "version": 3
   },
   "file_extension": ".py",
   "mimetype": "text/x-python",
   "name": "python",
   "nbconvert_exporter": "python",
   "pygments_lexer": "ipython3",
   "version": "3.5.4"
  }
 },
 "nbformat": 4,
 "nbformat_minor": 2
}
