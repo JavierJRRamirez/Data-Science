{
 "cells": [
  {
   "cell_type": "markdown",
   "metadata": {},
   "source": [
    "# CSCI 3022: Intro to Data Science - Fall 2017 Practicum \n",
    "***\n",
    "\n",
    "\n",
    "This practicum is due on Moodle by **11:59pm on Wednesday December 13th**. Your solutions to theoretical questions should be done in Markdown/MathJax directly below the associated question.  Your solutions to computational questions should include any specified Python code and results as well as written commentary on your conclusions.  \n",
    "\n",
    "**Here are the rules:** \n",
    "\n",
    "1. All work, code and analysis, must be your own. \n",
    "1. You may use your course notes, posted lecture slides, in-class notebooks, and homework solutions as resources.  You may also search online for answers to general knowledge questions like the form of a probability distribution function or how to perform a particular operation in Python/Pandas. \n",
    "2. You may **NOT** post to message boards or other online resources asking for help. \n",
    "3. You may **NOT** collaborate with classmates or anyone else.  \n",
    "\n",
    "Violation of the above rules will result in an **F** in the course and a trip to Honor Council. \n",
    "\n",
    "***\n",
    "\n",
    "**By writing your name below you agree to abide by the rules given above:**\n",
    "\n",
    "**Name**: Javier Ramirez\n",
    "\n",
    "**Section**: 001\n",
    "***\n",
    "\n",
    "\n",
    "**NOTES**: \n",
    "\n",
    "- You may not use late days on the practicum nor can you drop your practicum grade. \n",
    "- If you have a question for Chris and Dan, post it as a **PRIVATE** message on Piazza.  If we decide that the question is appropriate for the entire class we will make the post public (and anonymous). \n",
    "- Do **NOT** load or use any Python packages that are not available in Anaconda 3.6. \n",
    "- Some problems with code may be autograded.  If we provide a function API **do not** change it.  If we do not provide a function API then you're free to structure your code however you like. \n",
    "- Submit only this Jupyter notebook to Moodle.  Do not compress it using tar, rar, zip, etc. "
   ]
  },
  {
   "cell_type": "code",
   "execution_count": 30,
   "metadata": {
    "collapsed": true,
    "scrolled": true
   },
   "outputs": [],
   "source": [
    "import math\n",
    "import statsmodels.api as sm\n",
    "from scipy import stats \n",
    "%matplotlib inline\n",
    "import pandas as pd\n",
    "import numpy as np\n",
    "import matplotlib.pyplot as plt"
   ]
  },
  {
   "cell_type": "markdown",
   "metadata": {},
   "source": [
    "### [40 points] Problem 1: Parking Problems \n",
    "***\n",
    "\n",
    "Imagine that there are 50 parking spots on a street. A store is located at position 0, and each parking space along the street is numbered according to its distance from the store, so that the space right in front of the store is spot 0, the next is spot 1, and so on up until the end of the block, which is spot 49.\n",
    "\n",
    "**Prof. Ketelsen is direct and systematic**. He enters the street and drives all the way to the store, which takes him 90 seconds. Then, he drives incrementally away from the store, taking 2 seconds for each parking spot that he checks. He parks in the first empty spot (after he checks it) and then walks to the store from there, covering ground at a rate of 5 seconds per parking spot. If Chris parks in spot 0, he doesn’t need to walk at all, but he’d still have to check to see if the spot was taken. If he makes it to the end of the road with not a single parking spot to be found, he parks in his secret spot, which is always free, but far away, which takes him an additional 5 minutes beyond the time he already spent using his parking strategy.\n",
    "\n",
    "**Prof. Larremore is strategic and prone to overthinking**. He enters the street at the end, position 49, and starts driving toward the store, but checks each spot that he passes, taking 2 second to check each. But, in an attempt to be clever, he doesn’t park in the first spot he sees, because what if there’s a closer spot? Instead, he passes n empty spots and then parks in the next empty spot he sees (after he checks it). From where he parks on the street, he walks to the store at a speed of 5 seconds per parking spot. Just like Chris, if Dan parks in spot 0, he doesn’t need to walk at all, but he’d still have to check to see if the spot was taken. If he gets all the way to the store without parking, he parks in his own secret spot, which is always free, but not really close, which takes him an additional 3 minutes beyond the time he already spent using his parking strategy."
   ]
  },
  {
   "cell_type": "markdown",
   "metadata": {},
   "source": [
    "**Part A**: Write a function **chris_park_time**$(\\hspace{.5mm}p)$ that performs a single trial and returns the total time, in seconds, for Chris to get to the store, given the probability that each spot is occupied by a car already, $p$. In addition to showing your code, you should also describe and implement a simple test to convince yourself (and us) that your code is working correctly. "
   ]
  },
  {
   "cell_type": "code",
   "execution_count": 31,
   "metadata": {},
   "outputs": [
    {
     "name": "stdout",
     "output_type": "stream",
     "text": [
      "Chris takes this much time: 490 seconds\n"
     ]
    }
   ],
   "source": [
    "def chris_park_time(p):\n",
    "    total_time = 90\n",
    "    for i in range(50):\n",
    "        taken = np.random.choice([False,True], p=[1-p,p])\n",
    "        total_time = total_time + 2\n",
    "        if taken == False:\n",
    "            return total_time + (5*i)\n",
    "    return total_time + (5*60)\n",
    "total_time = chris_park_time(1)\n",
    "print(\"Chris takes this much time: {} seconds\".format(total_time))"
   ]
  },
  {
   "cell_type": "markdown",
   "metadata": {},
   "source": [
    "**Part B**: Write a function **dan_park_time**$(\\hspace{.5mm}p, n)$ that performs a single trial and returns the total time, in seconds, for dan to get to the store, where $n$ is the number of empty spots he passes before taking the next available spot. In addition to showing your code, you should also describe and implement a simple test to convince yourself (and us) that your code is working correctly. "
   ]
  },
  {
   "cell_type": "code",
   "execution_count": 53,
   "metadata": {},
   "outputs": [
    {
     "name": "stdout",
     "output_type": "stream",
     "text": [
      "Dan takes this much time: 229\n"
     ]
    }
   ],
   "source": [
    "def dan_park_time(p,n):\n",
    "    start_time = 0\n",
    "    for i in range(50):\n",
    "        taken = np.random.choice([False,True], p = [1-p,p])\n",
    "        start_time = start_time + 2\n",
    "        if taken == False:\n",
    "            n=n-1\n",
    "            if n <= False:\n",
    "                return start_time + (49-i)*5\n",
    "    return start_time + 180\n",
    "start_time = dan_park_time(.6, 1)\n",
    "print(\"Dan takes this much time: {}\".format(start_time))"
   ]
  },
  {
   "cell_type": "markdown",
   "metadata": {},
   "source": [
    "**Part C**: Run simulations to evaluate their parking strategies on a sleepy Tuesday morning when the probability of a parking space being occupied is $p=0.6$.  Perform $1000$ trials each for Chris's strategy and Dan's strategy with parameters $n=1,2,$ and $3$. Plot 4 histograms, one on top of the other, for the resulting parking times with bin boundaries at $[0, 10, 20, \\ldots, 300]$.  Be sure to label all axes and provide meaningful titles for each histogram.  Based on your histograms, which of the four strategies appears to be the best? "
   ]
  },
  {
   "cell_type": "code",
   "execution_count": 33,
   "metadata": {},
   "outputs": [
    {
     "data": {
      "image/png": "[encoded data removed]",
      "text/plain": [
       "<matplotlib.figure.Figure at 0x7f96e8c75400>"
      ]
     },
     "metadata": {},
     "output_type": "display_data"
    },
    {
     "data": {
      "image/png": "[encoded data removed]",
      "text/plain": [
       "<matplotlib.figure.Figure at 0x7f96e8b14668>"
      ]
     },
     "metadata": {},
     "output_type": "display_data"
    },
    {
     "data": {
      "image/png": "[encoded data removed]",
      "text/plain": [
       "<matplotlib.figure.Figure at 0x7f96e8c7e198>"
      ]
     },
     "metadata": {},
     "output_type": "display_data"
    },
    {
     "data": {
      "image/png": "[encoded data removed]",
      "text/plain": [
       "<matplotlib.figure.Figure at 0x7f96e8acae48>"
      ]
     },
     "metadata": {},
     "output_type": "display_data"
    }
   ],
   "source": [
    "chris, dan1, dan2, dan3 = ([] for i in range(4))\n",
    "p, trials = 0.6, 1000\n",
    "for i in range(trials):\n",
    "    chris.append(chris_park_time(p))\n",
    "    dan1.append(dan_park_time(p,1))\n",
    "    dan2.append(dan_park_time(p,2))\n",
    "    dan3.append(dan_park_time(p,3))\n",
    "for i in range(1):\n",
    "    chrisio = pd.Series(chris)\n",
    "    fig, ax = plt.subplots(figsize=(12,6))\n",
    "    ax.set_title(\"Parking Time vs Strategys\", fontsize=15)\n",
    "    ax.set_xlabel(\"Time to Park\", fontsize=15)\n",
    "    ax.set_ylabel(\"Frequency\", fontsize=15)\n",
    "    ax.set_xlim([0,300])\n",
    "    ax.set_ylim([0,850])\n",
    "    plt.xticks(np.arange(0, 300,10))\n",
    "    plt.yticks(np.arange(0, 850,50))\n",
    "    chrisio.hist(color=\"blue\", label=\"Chris\", bins=np.arange(0,300,10))\n",
    "    plt.legend()\n",
    "    plt.show()\n",
    "for i in range(1):\n",
    "    danio1 = pd.Series(dan1)\n",
    "    fig, ax = plt.subplots(figsize=(12,6))\n",
    "    ax.set_title(\"Parking Time vs Strategys\", fontsize=15)\n",
    "    ax.set_xlabel(\"Time to Park\", fontsize=15)\n",
    "    ax.set_ylabel(\"Frequency\", fontsize=15)\n",
    "    ax.set_xlim([0,300])\n",
    "    ax.set_ylim([0,850])\n",
    "    plt.xticks(np.arange(0, 300,10))\n",
    "    plt.yticks(np.arange(0, 850,50))\n",
    "    danio1.hist(color=\"green\", label=\"Dan when n = 1\", bins=np.arange(0,300,10))\n",
    "    plt.legend()\n",
    "    plt.show()\n",
    "for i in range(1):\n",
    "    danio2 = pd.Series(dan2)\n",
    "    fig, ax = plt.subplots(figsize=(12,6))\n",
    "    ax.set_title(\"Parking Time vs Strategys\", fontsize=15)\n",
    "    ax.set_xlabel(\"Time to Park\", fontsize=15)\n",
    "    ax.set_ylabel(\"Frequency\", fontsize=15)\n",
    "    ax.set_xlim([0,300])\n",
    "    ax.set_ylim([0,850])\n",
    "    plt.xticks(np.arange(0, 300,10))\n",
    "    plt.yticks(np.arange(0, 850,50))\n",
    "    danio2.hist(color=\"black\", label=\"Dan when n = 2\", bins=np.arange(0,300,10))\n",
    "    plt.legend()\n",
    "    plt.show()\n",
    "for i in range(1):\n",
    "    danio3 = pd.Series(dan3)\n",
    "    fig, ax = plt.subplots(figsize=(12,6))\n",
    "    ax.set_title(\"Parking Time vs Strategys\", fontsize=15)\n",
    "    ax.set_xlabel(\"Time to Park\", fontsize=15)\n",
    "    ax.set_ylabel(\"Frequency\", fontsize=15)\n",
    "    ax.set_xlim([0,300])\n",
    "    ax.set_ylim([0,850])\n",
    "    plt.xticks(np.arange(0, 300,10))\n",
    "    plt.yticks(np.arange(0, 850,50))\n",
    "    danio3.hist(color=\"pink\", label=\"Dan when n = 3\", bins=np.arange(0,300,10))\n",
    "    plt.legend()\n",
    "    plt.show()"
   ]
  },
  {
   "cell_type": "markdown",
   "metadata": {},
   "source": [
    "**Part D**: Run simulations with at least $1000$ trials and plot estimates of the expected parking time on a single graph for Chris's strategy and Dan's strategy with parameters $p=0.6$ and $n=0, 1, \\ldots, 25$. Report the optimal parameter $n$ for Dan's strategy and use your plot to decide whose strategy is better. "
   ]
  },
  {
   "cell_type": "code",
   "execution_count": 34,
   "metadata": {},
   "outputs": [
    {
     "name": "stdout",
     "output_type": "stream",
     "text": [
      "Dan optimal parameter with n:  16  time:  147.637 seconds\n"
     ]
    },
    {
     "data": {
      "text/plain": [
       "<matplotlib.legend.Legend at 0x7f96e54b89e8>"
      ]
     },
     "execution_count": 34,
     "metadata": {},
     "output_type": "execute_result"
    },
    {
     "data": {
      "image/png": "[encoded data removed]",
      "text/plain": [
       "<matplotlib.figure.Figure at 0x7f96e8a1b4a8>"
      ]
     },
     "metadata": {},
     "output_type": "display_data"
    }
   ],
   "source": [
    "chris_expected, dan_expected, time = ([] for i in range(3))\n",
    "for i in range(26):\n",
    "    hold, hold2 = ([] for i in range(2))\n",
    "    for j in range(1000):\n",
    "        hold2.append(chris_park_time(0.6))\n",
    "    for j in range(1000):\n",
    "        hold.append(dan_park_time(0.6, i))\n",
    "    Avg = np.average(hold)\n",
    "    dan_expected.append(Avg)\n",
    "    Avg2 = np.average(hold2)\n",
    "    chris_expected.append(Avg2)\n",
    "danN = dan_expected.index(min(dan_expected))\n",
    "danBT = min(dan_expected)\n",
    "chriss = pd.Series(chris_expected)\n",
    "dann = pd.Series(dan_expected)\n",
    "fig, ax = plt.subplots(figsize=(10,5))\n",
    "ax.set_title(\"Chris's strategy and Dan's strategy\", fontsize=20)\n",
    "ax.set_xlabel(\"n\")\n",
    "ax.set_ylabel(\"Average Time\")\n",
    "ax.set_xlim([0,25])\n",
    "ax.set_ylim([0,350])\n",
    "print(\"Dan optimal parameter with n: \",danN,\" time: \",danBT, \"seconds\")\n",
    "time = np.arange(26)\n",
    "plt.xticks(np.arange(0,25,1))\n",
    "plt.grid(True, alpha=0.65)\n",
    "plt.plot(time, chriss,'ro', label=\"Chris\")\n",
    "plt.plot(time, dann,'go', label=\"Dan\")\n",
    "plt.legend()"
   ]
  },
  {
   "cell_type": "markdown",
   "metadata": {},
   "source": [
    "**Part E**: Repeat **Part C** for a busier shopping time when the probability of any space being occupied is $p = 0.95$."
   ]
  },
  {
   "cell_type": "code",
   "execution_count": 35,
   "metadata": {},
   "outputs": [
    {
     "data": {
      "image/png": "[encoded data removed]",
      "text/plain": [
       "<matplotlib.figure.Figure at 0x7f96e895deb8>"
      ]
     },
     "metadata": {},
     "output_type": "display_data"
    },
    {
     "data": {
      "image/png": "[encoded data removed]",
      "text/plain": [
       "<matplotlib.figure.Figure at 0x7f96e8c84518>"
      ]
     },
     "metadata": {},
     "output_type": "display_data"
    },
    {
     "data": {
      "image/png": "[encoded data removed]",
      "text/plain": [
       "<matplotlib.figure.Figure at 0x7f96e8b141d0>"
      ]
     },
     "metadata": {},
     "output_type": "display_data"
    },
    {
     "data": {
      "image/png": "[encoded data removed]",
      "text/plain": [
       "<matplotlib.figure.Figure at 0x7f96e8b64908>"
      ]
     },
     "metadata": {},
     "output_type": "display_data"
    }
   ],
   "source": [
    "chris, dan1, dan2, dan3 = ([] for i in range(4))\n",
    "p, trials = 0.95, 1000\n",
    "my_bins = range(0,300+10,10)\n",
    "for i in range(trials):\n",
    "    chris.append(chris_park_time(p))\n",
    "    dan1.append(dan_park_time(p,1))\n",
    "    dan2.append(dan_park_time(p,2))\n",
    "    dan3.append(dan_park_time(p,3))\n",
    "for i in range(1):\n",
    "    chrisio = pd.Series(chris)\n",
    "    fig, ax = plt.subplots(figsize=(12,6))\n",
    "    ax.set_title(\"Parking Time vs Strategys\", fontsize=15)\n",
    "    ax.set_xlabel(\"Time Taken to Park\", fontsize=15)\n",
    "    ax.set_ylabel(\"Frequency\", fontsize=15)\n",
    "    ax.set_xlim([0,300])\n",
    "    ax.set_ylim([0,850])\n",
    "    plt.xticks(np.arange(0, 300+10,10))\n",
    "    plt.yticks(np.arange(0, 850+50,50))\n",
    "    chrisio.hist(alpha=0.69, color=\"blue\", label=\"Chris\", bins = my_bins)\n",
    "    plt.legend()\n",
    "    plt.show()\n",
    "for i in range(1):\n",
    "    danio1 = pd.Series(dan1)\n",
    "    fig, ax = plt.subplots(figsize=(12,6))\n",
    "    ax.set_title(\"Parking Time vs Strategys\", fontsize=15)\n",
    "    ax.set_xlabel(\"Time Taken to Park\", fontsize=15)\n",
    "    ax.set_ylabel(\"Frequency\", fontsize=15)\n",
    "    ax.set_xlim([0,300])\n",
    "    ax.set_ylim([0,850])\n",
    "    plt.xticks(np.arange(0, 300+10,10))\n",
    "    plt.yticks(np.arange(0, 850+50,50))\n",
    "    danio1.hist(alpha=0.69, color=\"green\", label=\"Dan 1\", bins = my_bins)\n",
    "    plt.legend()\n",
    "    plt.show()\n",
    "for i in range(1):\n",
    "    danio2 = pd.Series(dan2)\n",
    "    fig, ax = plt.subplots(figsize=(12,6))\n",
    "    ax.set_title(\"Parking Time vs Strategys\", fontsize=15)\n",
    "    ax.set_xlabel(\"Time Taken to Park\", fontsize=15)\n",
    "    ax.set_ylabel(\"Frequency\", fontsize=15)\n",
    "    ax.set_xlim([0,300])\n",
    "    ax.set_ylim([0,850])\n",
    "    plt.xticks(np.arange(0, 300+10,10))\n",
    "    plt.yticks(np.arange(0, 850+50,50))\n",
    "    danio2.hist(alpha=0.69, color=\"red\", label=\"Dan 2\", bins = my_bins)\n",
    "    plt.legend()\n",
    "    plt.show()\n",
    "for i in range(1):\n",
    "    danio3 = pd.Series(dan3)\n",
    "    fig, ax = plt.subplots(figsize=(12,6))\n",
    "    ax.set_title(\"Parking Time vs Strategys\", fontsize=15)\n",
    "    ax.set_xlabel(\"Time Taken to Park\", fontsize=15)\n",
    "    ax.set_ylabel(\"Frequency\", fontsize=15)\n",
    "    ax.set_xlim([0,300])\n",
    "    ax.set_ylim([0,850])\n",
    "    plt.xticks(np.arange(0, 300+10,10))\n",
    "    plt.yticks(np.arange(0, 850+50,50))\n",
    "    danio3.hist(alpha=0.69, color=\"orange\", label=\"Dan 3\", bins = my_bins)\n",
    "    plt.legend()\n",
    "    plt.show()"
   ]
  },
  {
   "cell_type": "markdown",
   "metadata": {},
   "source": [
    "**Part F**: Repeat **Part D** for a busier shopping time when the probability of any space being occupied is $p = 0.95$."
   ]
  },
  {
   "cell_type": "code",
   "execution_count": 36,
   "metadata": {},
   "outputs": [
    {
     "data": {
      "text/plain": [
       "<matplotlib.legend.Legend at 0x7f96e549a908>"
      ]
     },
     "execution_count": 36,
     "metadata": {},
     "output_type": "execute_result"
    },
    {
     "data": {
      "image/png": "[encoded data removed]",
      "text/plain": [
       "<matplotlib.figure.Figure at 0x7f96e8c96f28>"
      ]
     },
     "metadata": {},
     "output_type": "display_data"
    }
   ],
   "source": [
    "chris_expected, dan_expected, time = ([] for i in range(3))\n",
    "for i in range(26):\n",
    "    hold, hold2 = ([] for i in range(2))\n",
    "    for j in range(1000):\n",
    "        hold2.append(chris_park_time(0.95))\n",
    "    for j in range(1000):\n",
    "        hold.append(dan_park_time(0.95, i))\n",
    "    Avg = np.average(hold)\n",
    "    dan_expected.append(Avg)\n",
    "    Avg2 = np.average(hold2)\n",
    "    chris_expected.append(Avg2)\n",
    "danN = dan_expected.index(min(dan_expected))\n",
    "danBT = min(dan_expected)\n",
    "chriss = pd.Series(chris_expected)\n",
    "dann = pd.Series(dan_expected)\n",
    "fig, ax = plt.subplots(figsize=(10,5))\n",
    "ax.set_title(\"Chris's strategy and Dan's strategy\", fontsize=20)\n",
    "ax.set_xlabel(\"n\")\n",
    "ax.set_ylabel(\"Average Time\")\n",
    "ax.set_xlim([0,25])\n",
    "ax.set_ylim([0,350])\n",
    "time = np.arange(26)\n",
    "plt.xticks(np.arange(0,25,1))\n",
    "plt.grid(True, alpha=0.65)\n",
    "plt.plot(time, chriss,'ro', label=\"Chris\")\n",
    "plt.plot(time, dann,'go', label=\"Dan\")\n",
    "plt.legend()"
   ]
  },
  {
   "cell_type": "markdown",
   "metadata": {},
   "source": [
    "**Part G**: Analytically determine a formula for Chris's expected parking time as a function of the parameter $p$.  Verify that your exact result agrees well with your simulated results from **Parts D** and **F**."
   ]
  },
  {
   "cell_type": "markdown",
   "metadata": {
    "collapsed": true
   },
   "source": [
    "Expected value of a geometric distribution $\\frac{1-p}{p}$\n",
    "Which would be $5\\frac{1-0.05}{0.05}+2\\frac{1-0.05}{0.05}+90 = 223$, with $p = 0.95$ the probability of success, $p = 1 - 0.95 \\rightarrow 0.05$ is the probability of failure minus the probability of success which is $0.5$. $5\\frac{1-0.05}{0.05}+2\\frac{1-0.05}{2}+90 = 223$"
   ]
  },
  {
   "cell_type": "markdown",
   "metadata": {},
   "source": [
    "**Part H**: Analytically determine a formula for Dan's expected parking time as a function of parameters $p$ and $n$.  Verify that your exact result agrees well with your simulated results from **Parts D** and **F**."
   ]
  },
  {
   "cell_type": "markdown",
   "metadata": {
    "collapsed": true
   },
   "source": [
    "Dan's expected formula negative binomial distribution which is $\\frac{pn}{1-p}(49-i)$ when $n = 3$ for the number of trials and $p = 0.6$ as the probability of success. This plugged in to the formula would be $(\\frac{0.6*3}{1-0.6}*5+2*\\frac{0.6*3}{1-0.6}*5)*(49-60)\n",
    "\\rightarrow $"
   ]
  },
  {
   "cell_type": "markdown",
   "metadata": {},
   "source": [
    "**Part I**: Use the formulas you found in **Parts G** and **H** to make an argument about whose strategy is better — and, if the answer is it depends, explain which values of $p$ and/or $n$ allow Chris to get to the store faster than Dan. Provide any graphical summaries necessary to justify your conclusion. \n",
    "\n",
    "**Note**: While we hope that you come up with correct analytic formulas in **Parts G** and **H**, you may feel free to use the code written above to do this analysis using simulation estimates. "
   ]
  },
  {
   "cell_type": "markdown",
   "metadata": {
    "collapsed": true
   },
   "source": [
    "I believe Chris would have the better strategy of the two. With p-values of p=0.6 and p=0.95, Chris had a better average time than Dan."
   ]
  },
  {
   "cell_type": "markdown",
   "metadata": {},
   "source": [
    "### [30 points] Problem 2: Gender Balance in Movements Between Academic Disciplines\n",
    "***\n",
    "\n",
    "Every year, the online academic resume service, ORCID, dumps the data from all of the professors who have their privacy settings set to “public” so that the research community can learn about the makeup of the academic workforce. In this real-data problem, we’re going to study the flows of professors between different academic fields to learn about gender differences. We’ll use a pre-processed dataset used by actual researchers studying gender imbalance across fields.\n",
    "\n",
    "First, some information about the data. For each of the 1.6 million professors in the public ORCID data dump, the researchers determined (a) what field they are currently in, (b) what field they did their PhD in, and (c) their gender. Here, because the goal of the study was originally to learn about disparities between men and women, gender was coded by the researchers as male or female, as indicated by the professors. Those who chose not to mark their gender as public were not included in the processed dataset.\n",
    "\n",
    "The researchers have provided CSCI 3022 with two files: **totals.csv** and **switch_edgelist.csv**. The first file enumerates the total numbers of men and women in each of $30$ different fields. The second file enumerates the total numbers of men and women who switched from one field to another field during their career.\n",
    "\n",
    "The null hypothesis about the data is that the gender balance of people leaving field $X$ is the same as the gender balance in field $X$. For example, if Anthropology is $50\\%$ women and $50\\%$ men, we expect people who have moved from Anthropology to another field to reflect this $50/50$ balance. On the other hand, if Physics is only $15\\%$ women and $85\\%$ men, we expect people who have moved from Physics to another field to reflect a $15/85$ balance.\n",
    "\n",
    "In symbolic form, we might write this as follows. Let the proportion of professors in field i who are women be given by $p_i$, and let the proportion of women who move from field i to some other field be given by $q_i$. Then the expected result is that $p_i$ = $q_i$. The researchers are interested to know if there is statistical evidence that $p_i \\neq q_i$ for any of the fields $i$."
   ]
  },
  {
   "cell_type": "markdown",
   "metadata": {},
   "source": [
    "**Part A**: Wrangle those data files. Then, make a plot of $p_i$ for all $i = 1, 2, \\ldots, 30$ fields using a green color, and on the same axes, plot $q_i$ using a blue color."
   ]
  },
  {
   "cell_type": "code",
   "execution_count": 62,
   "metadata": {
    "scrolled": false
   },
   "outputs": [
    {
     "name": "stdout",
     "output_type": "stream",
     "text": [
      "('anthropology', 'female')\n",
      "N    1269\n",
      "Name: (anthropology, female), dtype: int64\n",
      "--------------------\n",
      "('anthropology', 'male')\n",
      "N    1464\n",
      "Name: (anthropology, male), dtype: int64\n",
      "--------------------\n",
      "('archaeology', 'female')\n",
      "N    619\n",
      "Name: (archaeology, female), dtype: int64\n",
      "--------------------\n",
      "('archaeology', 'male')\n",
      "N    743\n",
      "Name: (archaeology, male), dtype: int64\n",
      "--------------------\n",
      "('art history', 'female')\n",
      "N    315\n",
      "Name: (art history, female), dtype: int64\n",
      "--------------------\n",
      "('art history', 'male')\n",
      "N    250\n",
      "Name: (art history, male), dtype: int64\n",
      "--------------------\n",
      "('astronomy', 'female')\n",
      "N    784\n",
      "Name: (astronomy, female), dtype: int64\n",
      "--------------------\n",
      "('astronomy', 'male')\n",
      "N    3135\n",
      "Name: (astronomy, male), dtype: int64\n",
      "--------------------\n",
      "('biochemistry', 'female')\n",
      "N    2179\n",
      "Name: (biochemistry, female), dtype: int64\n",
      "--------------------\n",
      "('biochemistry', 'male')\n",
      "N    4669\n",
      "Name: (biochemistry, male), dtype: int64\n",
      "--------------------\n",
      "('chemistry', 'female')\n",
      "N    6085\n",
      "Name: (chemistry, female), dtype: int64\n",
      "--------------------\n",
      "('chemistry', 'male')\n",
      "N    17521\n",
      "Name: (chemistry, male), dtype: int64\n",
      "--------------------\n",
      "('classics', 'female')\n",
      "N    309\n",
      "Name: (classics, female), dtype: int64\n",
      "--------------------\n",
      "('classics', 'male')\n",
      "N    475\n",
      "Name: (classics, male), dtype: int64\n",
      "--------------------\n",
      "('communications', 'female')\n",
      "N    2010\n",
      "Name: (communications, female), dtype: int64\n",
      "--------------------\n",
      "('communications', 'male')\n",
      "N    3195\n",
      "Name: (communications, male), dtype: int64\n",
      "--------------------\n",
      "('comparative literature', 'female')\n",
      "N    175\n",
      "Name: (comparative literature, female), dtype: int64\n",
      "--------------------\n",
      "('comparative literature', 'male')\n",
      "N    314\n",
      "Name: (comparative literature, male), dtype: int64\n",
      "--------------------\n",
      "('computer science', 'female')\n",
      "N    2585\n",
      "Name: (computer science, female), dtype: int64\n",
      "--------------------\n",
      "('computer science', 'male')\n",
      "N    12475\n",
      "Name: (computer science, male), dtype: int64\n",
      "--------------------\n",
      "('earth sciences', 'female')\n",
      "N    669\n",
      "Name: (earth sciences, female), dtype: int64\n",
      "--------------------\n",
      "('earth sciences', 'male')\n",
      "N    1592\n",
      "Name: (earth sciences, male), dtype: int64\n",
      "--------------------\n",
      "('economics', 'female')\n",
      "N    3382\n",
      "Name: (economics, female), dtype: int64\n",
      "--------------------\n",
      "('economics', 'male')\n",
      "N    7263\n",
      "Name: (economics, male), dtype: int64\n",
      "--------------------\n",
      "('education', 'female')\n",
      "N    6133\n",
      "Name: (education, female), dtype: int64\n",
      "--------------------\n",
      "('education', 'male')\n",
      "N    5880\n",
      "Name: (education, male), dtype: int64\n",
      "--------------------\n",
      "('engineering', 'female')\n",
      "N    10528\n",
      "Name: (engineering, female), dtype: int64\n",
      "--------------------\n",
      "('engineering', 'male')\n",
      "N    47690\n",
      "Name: (engineering, male), dtype: int64\n",
      "--------------------\n",
      "('english literature', 'female')\n",
      "N    997\n",
      "Name: (english literature, female), dtype: int64\n",
      "--------------------\n",
      "('english literature', 'male')\n",
      "N    1065\n",
      "Name: (english literature, male), dtype: int64\n",
      "--------------------\n",
      "('evolutionary biology', 'female')\n",
      "N    226\n",
      "Name: (evolutionary biology, female), dtype: int64\n",
      "--------------------\n",
      "('evolutionary biology', 'male')\n",
      "N    278\n",
      "Name: (evolutionary biology, male), dtype: int64\n",
      "--------------------\n",
      "('history', 'female')\n",
      "N    2030\n",
      "Name: (history, female), dtype: int64\n",
      "--------------------\n",
      "('history', 'male')\n",
      "N    3078\n",
      "Name: (history, male), dtype: int64\n",
      "--------------------\n",
      "('linguistics', 'female')\n",
      "N    842\n",
      "Name: (linguistics, female), dtype: int64\n",
      "--------------------\n",
      "('linguistics', 'male')\n",
      "N    876\n",
      "Name: (linguistics, male), dtype: int64\n",
      "--------------------\n",
      "('mathematics', 'female')\n",
      "N    3416\n",
      "Name: (mathematics, female), dtype: int64\n",
      "--------------------\n",
      "('mathematics', 'male')\n",
      "N    11906\n",
      "Name: (mathematics, male), dtype: int64\n",
      "--------------------\n",
      "('middle eastern studies', 'female')\n",
      "N    51\n",
      "Name: (middle eastern studies, female), dtype: int64\n",
      "--------------------\n",
      "('middle eastern studies', 'male')\n",
      "N    95\n",
      "Name: (middle eastern studies, male), dtype: int64\n",
      "--------------------\n",
      "('molecular biology', 'female')\n",
      "N    846\n",
      "Name: (molecular biology, female), dtype: int64\n",
      "--------------------\n",
      "('molecular biology', 'male')\n",
      "N    1509\n",
      "Name: (molecular biology, male), dtype: int64\n",
      "--------------------\n",
      "('music', 'female')\n",
      "N    695\n",
      "Name: (music, female), dtype: int64\n",
      "--------------------\n",
      "('music', 'male')\n",
      "N    1312\n",
      "Name: (music, male), dtype: int64\n",
      "--------------------\n",
      "('neuroscience', 'female')\n",
      "N    1174\n",
      "Name: (neuroscience, female), dtype: int64\n",
      "--------------------\n",
      "('neuroscience', 'male')\n",
      "N    1738\n",
      "Name: (neuroscience, male), dtype: int64\n",
      "--------------------\n",
      "('philosophy', 'female')\n",
      "N    1149\n",
      "Name: (philosophy, female), dtype: int64\n",
      "--------------------\n",
      "('philosophy', 'male')\n",
      "N    2399\n",
      "Name: (philosophy, male), dtype: int64\n",
      "--------------------\n",
      "('physics', 'female')\n",
      "N    5164\n",
      "Name: (physics, female), dtype: int64\n",
      "--------------------\n",
      "('physics', 'male')\n",
      "N    24623\n",
      "Name: (physics, male), dtype: int64\n",
      "--------------------\n",
      "('political science', 'female')\n",
      "N    1117\n",
      "Name: (political science, female), dtype: int64\n",
      "--------------------\n",
      "('political science', 'male')\n",
      "N    2559\n",
      "Name: (political science, male), dtype: int64\n",
      "--------------------\n",
      "('psychology', 'female')\n",
      "N    8185\n",
      "Name: (psychology, female), dtype: int64\n",
      "--------------------\n",
      "('psychology', 'male')\n",
      "N    7206\n",
      "Name: (psychology, male), dtype: int64\n",
      "--------------------\n",
      "('sociology', 'female')\n",
      "N    1639\n",
      "Name: (sociology, female), dtype: int64\n",
      "--------------------\n",
      "('sociology', 'male')\n",
      "N    1756\n",
      "Name: (sociology, male), dtype: int64\n",
      "--------------------\n",
      "('spanish literature', 'female')\n",
      "N    53\n",
      "Name: (spanish literature, female), dtype: int64\n",
      "--------------------\n",
      "('spanish literature', 'male')\n",
      "N    54\n",
      "Name: (spanish literature, male), dtype: int64\n",
      "--------------------\n",
      "('statistics', 'female')\n",
      "N    1261\n",
      "Name: (statistics, female), dtype: int64\n",
      "--------------------\n",
      "('statistics', 'male')\n",
      "N    2871\n",
      "Name: (statistics, male), dtype: int64\n",
      "--------------------\n"
     ]
    },
    {
     "ename": "TypeError",
     "evalue": "drop() got multiple values for argument 'axis'",
     "output_type": "error",
     "traceback": [
      "\u001b[0;31m---------------------------------------------------------------------------\u001b[0m",
      "\u001b[0;31mTypeError\u001b[0m                                 Traceback (most recent call last)",
      "\u001b[0;32m<ipython-input-62-e9fc7f243c7d>\u001b[0m in \u001b[0;36m<module>\u001b[0;34m()\u001b[0m\n\u001b[1;32m     20\u001b[0m \u001b[0;34m\u001b[0m\u001b[0m\n\u001b[1;32m     21\u001b[0m \u001b[0mdfTS\u001b[0m \u001b[0;34m=\u001b[0m \u001b[0mpd\u001b[0m\u001b[0;34m.\u001b[0m\u001b[0mread_csv\u001b[0m\u001b[0;34m(\u001b[0m\u001b[0;34m'https://raw.githubusercontent.com/chrisketelsen/csci3022/master/practicum/data/switch_edgelist.csv'\u001b[0m\u001b[0;34m)\u001b[0m\u001b[0;34m\u001b[0m\u001b[0m\n\u001b[0;32m---> 22\u001b[0;31m \u001b[0mdfTS\u001b[0m \u001b[0;34m=\u001b[0m \u001b[0mdfT\u001b[0m\u001b[0;34m.\u001b[0m\u001b[0mdrop\u001b[0m\u001b[0;34m(\u001b[0m\u001b[0;34m[\u001b[0m\u001b[0;34m'from'\u001b[0m\u001b[0;34m]\u001b[0m\u001b[0;34m,\u001b[0m\u001b[0;34m[\u001b[0m\u001b[0;34m\"to\"\u001b[0m\u001b[0;34m]\u001b[0m\u001b[0;34m,\u001b[0m \u001b[0maxis\u001b[0m\u001b[0;34m=\u001b[0m\u001b[0;36m1\u001b[0m\u001b[0;34m)\u001b[0m\u001b[0;34m\u001b[0m\u001b[0m\n\u001b[0m\u001b[1;32m     23\u001b[0m \u001b[0mdfTotalS\u001b[0m \u001b[0;34m=\u001b[0m \u001b[0mdfT\u001b[0m\u001b[0;34m.\u001b[0m\u001b[0mgroupby\u001b[0m\u001b[0;34m(\u001b[0m\u001b[0;34m[\u001b[0m\u001b[0;34m'field'\u001b[0m\u001b[0;34m,\u001b[0m \u001b[0;34m'gend_cat'\u001b[0m\u001b[0;34m]\u001b[0m\u001b[0;34m)\u001b[0m\u001b[0;34m.\u001b[0m\u001b[0msum\u001b[0m\u001b[0;34m(\u001b[0m\u001b[0;34m)\u001b[0m\u001b[0;34m\u001b[0m\u001b[0m\n\u001b[1;32m     24\u001b[0m \u001b[0mdfTotalP\u001b[0m \u001b[0;34m=\u001b[0m \u001b[0mdfT\u001b[0m\u001b[0;34m.\u001b[0m\u001b[0mdrop\u001b[0m\u001b[0;34m(\u001b[0m\u001b[0;34m[\u001b[0m\u001b[0;34m'gend_cat'\u001b[0m\u001b[0;34m]\u001b[0m\u001b[0;34m,\u001b[0m \u001b[0maxis\u001b[0m\u001b[0;34m=\u001b[0m\u001b[0;36m1\u001b[0m\u001b[0;34m)\u001b[0m\u001b[0;34m\u001b[0m\u001b[0m\n",
      "\u001b[0;31mTypeError\u001b[0m: drop() got multiple values for argument 'axis'"
     ]
    }
   ],
   "source": [
    "dfT = pd.read_csv('https://raw.githubusercontent.com/chrisketelsen/csci3022/master/practicum/data/totals.csv')\n",
    "dfT = dfT.drop(['idx'], axis=1)\n",
    "dfTotal = dfT.groupby(['field', 'gend_cat']).sum()\n",
    "dfTotalP = dfT.drop(['gend_cat'], axis=1)\n",
    "\n",
    "female = []\n",
    "male = []\n",
    "for person, row in dfTotal.iterrows():\n",
    "    if person[1] == 'female':\n",
    "        female.append(person)\n",
    "    elif person[1] == 'male':\n",
    "        male.append(person)\n",
    "    print(person)\n",
    "    print(row)\n",
    "    print(\"--------------------\")\n",
    "total = []\n",
    "allPeople = []\n",
    "for i in range(len(allPeople)):\n",
    "    allPeople.append(female[i] / total[i])\n",
    "    \n",
    "dfTS = pd.read_csv('https://raw.githubusercontent.com/chrisketelsen/csci3022/master/practicum/data/switch_edgelist.csv')\n",
    "dfTS = dfT.drop(['from'],[\"to\"], axis=1)\n",
    "dfTotalS = dfT.groupby(['field', 'gend_cat']).sum()\n",
    "dfTotalP = dfT.drop(['gend_cat'], axis=1)\n",
    "    \n",
    "female_Switch = []\n",
    "male_Switch = []\n",
    "for person_switch, row in dfTotal.iterrows():\n",
    "    if person_switch[1] == 'female':\n",
    "        female_Switch.append(person_switch)\n",
    "    elif person_switch[1] == 'male':\n",
    "        male_Switch.append(person_switch)\n",
    "total_switch = []\n",
    "allPeople_switch = []\n",
    "for i in range(len(allPeople_switch)):\n",
    "    allPeople_switch.append(female[i] / total_switch[i])\n",
    "    \n",
    "fig, ax = plt.subplots(figsize=(12,6))\n",
    "ax.set_title(\"Parking Time vs Strategys\", fontsize=15)\n",
    "ax.set_xlabel(\"Time Taken to Park\", fontsize=15)\n",
    "ax.set_ylabel(\"Frequency\", fontsize=15)\n",
    "ax.set_xlim([0,300])\n",
    "ax.set_ylim([0,850])\n",
    "plt.xticks(np.arange(0, 300+10,10))\n",
    "plt.yticks(np.arange(0, 850+50,50))\n",
    "plt.plot(pd.Series(allPeople),\"g.\")\n",
    "plt.plot(pd.Series(allPeople_switch), 'b.')\n",
    "plt.legend()\n",
    "plt.show()"
   ]
  },
  {
   "cell_type": "markdown",
   "metadata": {},
   "source": [
    "**Part B**: At the $\\alpha = 0.05$ significance level, use the method of your choice to determine whether there is sufficient evidence that $p_i \\neq q_i$. Be sure to explain why you are justified in using the method that you used, and report the numbers that helped you make your decision for each of the fields. Please use only methods we have discussed in class. Then, replicate your plot from **Part A** and add a red symbol to those fields, if any, where $p_i$ and $q_i$ are statistically different at the given significance level. Comment on any significant findings.  "
   ]
  },
  {
   "cell_type": "code",
   "execution_count": 54,
   "metadata": {},
   "outputs": [
    {
     "name": "stdout",
     "output_type": "stream",
     "text": [
      "('anthropology', 'female')\n",
      "N    1269\n",
      "Name: (anthropology, female), dtype: int64\n",
      "--------------------\n",
      "('anthropology', 'male')\n",
      "N    1464\n",
      "Name: (anthropology, male), dtype: int64\n",
      "--------------------\n",
      "('archaeology', 'female')\n",
      "N    619\n",
      "Name: (archaeology, female), dtype: int64\n",
      "--------------------\n",
      "('archaeology', 'male')\n",
      "N    743\n",
      "Name: (archaeology, male), dtype: int64\n",
      "--------------------\n",
      "('art history', 'female')\n",
      "N    315\n",
      "Name: (art history, female), dtype: int64\n",
      "--------------------\n",
      "('art history', 'male')\n",
      "N    250\n",
      "Name: (art history, male), dtype: int64\n",
      "--------------------\n",
      "('astronomy', 'female')\n",
      "N    784\n",
      "Name: (astronomy, female), dtype: int64\n",
      "--------------------\n",
      "('astronomy', 'male')\n",
      "N    3135\n",
      "Name: (astronomy, male), dtype: int64\n",
      "--------------------\n",
      "('biochemistry', 'female')\n",
      "N    2179\n",
      "Name: (biochemistry, female), dtype: int64\n",
      "--------------------\n",
      "('biochemistry', 'male')\n",
      "N    4669\n",
      "Name: (biochemistry, male), dtype: int64\n",
      "--------------------\n",
      "('chemistry', 'female')\n",
      "N    6085\n",
      "Name: (chemistry, female), dtype: int64\n",
      "--------------------\n",
      "('chemistry', 'male')\n",
      "N    17521\n",
      "Name: (chemistry, male), dtype: int64\n",
      "--------------------\n",
      "('classics', 'female')\n",
      "N    309\n",
      "Name: (classics, female), dtype: int64\n",
      "--------------------\n",
      "('classics', 'male')\n",
      "N    475\n",
      "Name: (classics, male), dtype: int64\n",
      "--------------------\n",
      "('communications', 'female')\n",
      "N    2010\n",
      "Name: (communications, female), dtype: int64\n",
      "--------------------\n",
      "('communications', 'male')\n",
      "N    3195\n",
      "Name: (communications, male), dtype: int64\n",
      "--------------------\n",
      "('comparative literature', 'female')\n",
      "N    175\n",
      "Name: (comparative literature, female), dtype: int64\n",
      "--------------------\n",
      "('comparative literature', 'male')\n",
      "N    314\n",
      "Name: (comparative literature, male), dtype: int64\n",
      "--------------------\n",
      "('computer science', 'female')\n",
      "N    2585\n",
      "Name: (computer science, female), dtype: int64\n",
      "--------------------\n",
      "('computer science', 'male')\n",
      "N    12475\n",
      "Name: (computer science, male), dtype: int64\n",
      "--------------------\n",
      "('earth sciences', 'female')\n",
      "N    669\n",
      "Name: (earth sciences, female), dtype: int64\n",
      "--------------------\n",
      "('earth sciences', 'male')\n",
      "N    1592\n",
      "Name: (earth sciences, male), dtype: int64\n",
      "--------------------\n",
      "('economics', 'female')\n",
      "N    3382\n",
      "Name: (economics, female), dtype: int64\n",
      "--------------------\n",
      "('economics', 'male')\n",
      "N    7263\n",
      "Name: (economics, male), dtype: int64\n",
      "--------------------\n",
      "('education', 'female')\n",
      "N    6133\n",
      "Name: (education, female), dtype: int64\n",
      "--------------------\n",
      "('education', 'male')\n",
      "N    5880\n",
      "Name: (education, male), dtype: int64\n",
      "--------------------\n",
      "('engineering', 'female')\n",
      "N    10528\n",
      "Name: (engineering, female), dtype: int64\n",
      "--------------------\n",
      "('engineering', 'male')\n",
      "N    47690\n",
      "Name: (engineering, male), dtype: int64\n",
      "--------------------\n",
      "('english literature', 'female')\n",
      "N    997\n",
      "Name: (english literature, female), dtype: int64\n",
      "--------------------\n",
      "('english literature', 'male')\n",
      "N    1065\n",
      "Name: (english literature, male), dtype: int64\n",
      "--------------------\n",
      "('evolutionary biology', 'female')\n",
      "N    226\n",
      "Name: (evolutionary biology, female), dtype: int64\n",
      "--------------------\n",
      "('evolutionary biology', 'male')\n",
      "N    278\n",
      "Name: (evolutionary biology, male), dtype: int64\n",
      "--------------------\n",
      "('history', 'female')\n",
      "N    2030\n",
      "Name: (history, female), dtype: int64\n",
      "--------------------\n",
      "('history', 'male')\n",
      "N    3078\n",
      "Name: (history, male), dtype: int64\n",
      "--------------------\n",
      "('linguistics', 'female')\n",
      "N    842\n",
      "Name: (linguistics, female), dtype: int64\n",
      "--------------------\n",
      "('linguistics', 'male')\n",
      "N    876\n",
      "Name: (linguistics, male), dtype: int64\n",
      "--------------------\n",
      "('mathematics', 'female')\n",
      "N    3416\n",
      "Name: (mathematics, female), dtype: int64\n",
      "--------------------\n",
      "('mathematics', 'male')\n",
      "N    11906\n",
      "Name: (mathematics, male), dtype: int64\n",
      "--------------------\n",
      "('middle eastern studies', 'female')\n",
      "N    51\n",
      "Name: (middle eastern studies, female), dtype: int64\n",
      "--------------------\n",
      "('middle eastern studies', 'male')\n",
      "N    95\n",
      "Name: (middle eastern studies, male), dtype: int64\n",
      "--------------------\n",
      "('molecular biology', 'female')\n",
      "N    846\n",
      "Name: (molecular biology, female), dtype: int64\n",
      "--------------------\n",
      "('molecular biology', 'male')\n",
      "N    1509\n",
      "Name: (molecular biology, male), dtype: int64\n",
      "--------------------\n",
      "('music', 'female')\n",
      "N    695\n",
      "Name: (music, female), dtype: int64\n",
      "--------------------\n",
      "('music', 'male')\n",
      "N    1312\n",
      "Name: (music, male), dtype: int64\n",
      "--------------------\n",
      "('neuroscience', 'female')\n",
      "N    1174\n",
      "Name: (neuroscience, female), dtype: int64\n",
      "--------------------\n",
      "('neuroscience', 'male')\n",
      "N    1738\n",
      "Name: (neuroscience, male), dtype: int64\n",
      "--------------------\n",
      "('philosophy', 'female')\n",
      "N    1149\n",
      "Name: (philosophy, female), dtype: int64\n",
      "--------------------\n",
      "('philosophy', 'male')\n",
      "N    2399\n",
      "Name: (philosophy, male), dtype: int64\n",
      "--------------------\n",
      "('physics', 'female')\n",
      "N    5164\n",
      "Name: (physics, female), dtype: int64\n",
      "--------------------\n",
      "('physics', 'male')\n",
      "N    24623\n",
      "Name: (physics, male), dtype: int64\n",
      "--------------------\n",
      "('political science', 'female')\n",
      "N    1117\n",
      "Name: (political science, female), dtype: int64\n",
      "--------------------\n",
      "('political science', 'male')\n",
      "N    2559\n",
      "Name: (political science, male), dtype: int64\n",
      "--------------------\n",
      "('psychology', 'female')\n",
      "N    8185\n",
      "Name: (psychology, female), dtype: int64\n",
      "--------------------\n",
      "('psychology', 'male')\n",
      "N    7206\n",
      "Name: (psychology, male), dtype: int64\n",
      "--------------------\n",
      "('sociology', 'female')\n",
      "N    1639\n",
      "Name: (sociology, female), dtype: int64\n",
      "--------------------\n",
      "('sociology', 'male')\n",
      "N    1756\n",
      "Name: (sociology, male), dtype: int64\n",
      "--------------------\n",
      "('spanish literature', 'female')\n",
      "N    53\n",
      "Name: (spanish literature, female), dtype: int64\n",
      "--------------------\n",
      "('spanish literature', 'male')\n",
      "N    54\n",
      "Name: (spanish literature, male), dtype: int64\n",
      "--------------------\n",
      "('statistics', 'female')\n",
      "N    1261\n",
      "Name: (statistics, female), dtype: int64\n",
      "--------------------\n",
      "('statistics', 'male')\n",
      "N    2871\n",
      "Name: (statistics, male), dtype: int64\n",
      "--------------------\n"
     ]
    }
   ],
   "source": [
    "dfT = pd.read_csv('https://raw.githubusercontent.com/chrisketelsen/csci3022/master/practicum/data/totals.csv')\n",
    "dfT = dfT.drop(['idx'], axis=1)\n",
    "dfTotal = dfT.groupby(['field', 'gend_cat']).sum()\n",
    "dfTotalP = dfT.drop(['gend_cat'], axis=1)\n",
    "\n",
    "female = []\n",
    "male = []\n",
    "for person, row in dfTotal.iterrows():\n",
    "    if person[1] == 'female':\n",
    "        female.append(person)\n",
    "    elif person[1] == 'male':\n",
    "        male.append(person)\n",
    "    print(person)\n",
    "    print(row)\n",
    "    print(\"--------------------\")\n",
    "    \n",
    "dfTS = pd.read_csv('https://raw.githubusercontent.com/chrisketelsen/csci3022/master/practicum/data/switch_edgelist.csv')\n",
    "dfTS = dfT.drop(['from'],[\"to\"], axis=1)\n",
    "dfTotalS = dfT.groupby(['field', 'gend_cat']).sum()\n",
    "dfTotalPS = dfT.drop(['gend_cat'], axis=1)"
   ]
  },
  {
   "cell_type": "markdown",
   "metadata": {},
   "source": [
    "**Part C**: Repeat the procedure from **Part B** at the $\\alpha = 0.01$ level. "
   ]
  },
  {
   "cell_type": "code",
   "execution_count": null,
   "metadata": {
    "collapsed": true
   },
   "outputs": [],
   "source": [
    "dfT = pd.read_csv('https://raw.githubusercontent.com/chrisketelsen/csci3022/master/practicum/data/totals.csv')\n",
    "dfT = dfT.drop(['idx'], axis=1)\n",
    "dfTotal = dfT.groupby(['field', 'gend_cat']).sum()\n",
    "dfTotalP = dfT.drop(['gend_cat'], axis=1)\n",
    "\n",
    "female = []\n",
    "male = []\n",
    "for person, row in dfTotal.iterrows():\n",
    "    if person[1] == 'female':\n",
    "        female.append(person)\n",
    "    elif person[1] == 'male':\n",
    "        male.append(person)\n",
    "    print(person)\n",
    "    print(row)\n",
    "    print(\"--------------------\")\n",
    "    \n",
    "dfTS = pd.read_csv('https://raw.githubusercontent.com/chrisketelsen/csci3022/master/practicum/data/switch_edgelist.csv')\n",
    "dfTS = dfT.drop(['from'],[\"to\"], axis=1)\n",
    "dfTotalS = dfT.groupby(['field', 'gend_cat']).sum()\n",
    "dfTotalPS = dfT.drop(['gend_cat'], axis=1)"
   ]
  },
  {
   "cell_type": "markdown",
   "metadata": {},
   "source": [
    "### [30 points] Problem 3: Multiple Linear Ralphie-gression \n",
    "***\n",
    "\n",
    "After years of study and professional development, you have finally landed your dream job as Ralphie's data-driven lead handler.  As your first project, you wish to use multiple linear regression to understand and predict what makes Ralphie happy, as measured during halftime of home football games.  Luckily, your predecessor has collected lots of data that might prove relevant.  You'll find this data in the file ralphie.csv. \n",
    "\n",
    "**Response**: \n",
    "\n",
    "- $\\texttt{happiness}$: Ralphie's happiness, measured by a complicated formula involving rate of tail flicks, happy-sounding snorts, and numerous other factors \n",
    "\n",
    "**Features**: \n",
    "\n",
    "- $\\texttt{hay freshness}$: freshness of Ralphie's hay, measured in Freshies \n",
    "- $\\texttt{coat silkiness}$: silkiness of Ralphie's coat, measured in Larremores \n",
    "- $\\texttt{run length}$: the length of Ralphie's halftime run, measured in yards \n",
    "- $\\texttt{temp}$: the outside temperature, measured in degrees Fahrenheit \n",
    "- $\\texttt{SCMLP}$: the snow-capped majesty of Longs Peak, measured as a fraction between 0 and 1  \n",
    "- $\\texttt{mean GPA}$: mean GPA of Ralphie's handlers \n",
    "- $\\texttt{score diff}$: the score differential (CU's score minus Opponent' score) at halftime \n",
    "- $\\texttt{star yards}$: the number of rushing yards by CU's star running back at halftime \n",
    "- $\\texttt{ice cream sold}$: the number of units of ice cream sold at the concession stand \n",
    "- $\\texttt{shark attacks}$: the number of shark attacks at the Boulder Res on game day \n"
   ]
  },
  {
   "cell_type": "markdown",
   "metadata": {},
   "source": [
    "**Part A**: Read the data from **ralphie.csv** into a Pandas DataFrame and clean the data.  Note that since we will be doing a multiple linear regression we will need all of the features, so you should drop any row in the DataFrame that is missing data.  "
   ]
  },
  {
   "cell_type": "code",
   "execution_count": 50,
   "metadata": {},
   "outputs": [
    {
     "name": "stdout",
     "output_type": "stream",
     "text": [
      "<class 'pandas.core.frame.DataFrame'>\n",
      "Int64Index: 85 entries, 0 to 96\n",
      "Data columns (total 11 columns):\n",
      "happiness         85 non-null float64\n",
      "hay freshness     85 non-null float64\n",
      "coat silkiness    85 non-null float64\n",
      "run length        85 non-null float64\n",
      "temp              85 non-null float64\n",
      "SCMLP             85 non-null float64\n",
      "handler GPA       85 non-null float64\n",
      "score diff        85 non-null float64\n",
      "star yards        85 non-null float64\n",
      "ice cream sold    85 non-null float64\n",
      "shark attacks     85 non-null float64\n",
      "dtypes: float64(11)\n",
      "memory usage: 8.0 KB\n"
     ]
    },
    {
     "data": {
      "text/html": [
       "<div>\n",
       "<table border=\"1\" class=\"dataframe\">\n",
       "  <thead>\n",
       "    <tr style=\"text-align: right;\">\n",
       "      <th></th>\n",
       "      <th>happiness</th>\n",
       "      <th>hay freshness</th>\n",
       "      <th>coat silkiness</th>\n",
       "      <th>run length</th>\n",
       "      <th>temp</th>\n",
       "      <th>SCMLP</th>\n",
       "      <th>handler GPA</th>\n",
       "      <th>score diff</th>\n",
       "      <th>star yards</th>\n",
       "      <th>ice cream sold</th>\n",
       "      <th>shark attacks</th>\n",
       "    </tr>\n",
       "  </thead>\n",
       "  <tbody>\n",
       "    <tr>\n",
       "      <th>0</th>\n",
       "      <td>138.70</td>\n",
       "      <td>89.1</td>\n",
       "      <td>6.8</td>\n",
       "      <td>263.0</td>\n",
       "      <td>62.0</td>\n",
       "      <td>1.00</td>\n",
       "      <td>2.04</td>\n",
       "      <td>0.0</td>\n",
       "      <td>25.0</td>\n",
       "      <td>196.0</td>\n",
       "      <td>3.0</td>\n",
       "    </tr>\n",
       "    <tr>\n",
       "      <th>1</th>\n",
       "      <td>121.87</td>\n",
       "      <td>93.4</td>\n",
       "      <td>8.0</td>\n",
       "      <td>264.0</td>\n",
       "      <td>63.0</td>\n",
       "      <td>1.00</td>\n",
       "      <td>2.69</td>\n",
       "      <td>-4.0</td>\n",
       "      <td>21.0</td>\n",
       "      <td>189.0</td>\n",
       "      <td>1.0</td>\n",
       "    </tr>\n",
       "    <tr>\n",
       "      <th>2</th>\n",
       "      <td>117.31</td>\n",
       "      <td>85.9</td>\n",
       "      <td>7.6</td>\n",
       "      <td>243.0</td>\n",
       "      <td>55.0</td>\n",
       "      <td>0.84</td>\n",
       "      <td>3.17</td>\n",
       "      <td>-2.0</td>\n",
       "      <td>11.0</td>\n",
       "      <td>219.0</td>\n",
       "      <td>0.0</td>\n",
       "    </tr>\n",
       "    <tr>\n",
       "      <th>3</th>\n",
       "      <td>80.69</td>\n",
       "      <td>89.1</td>\n",
       "      <td>6.0</td>\n",
       "      <td>260.0</td>\n",
       "      <td>52.0</td>\n",
       "      <td>0.73</td>\n",
       "      <td>2.13</td>\n",
       "      <td>-13.0</td>\n",
       "      <td>107.0</td>\n",
       "      <td>101.0</td>\n",
       "      <td>0.0</td>\n",
       "    </tr>\n",
       "    <tr>\n",
       "      <th>4</th>\n",
       "      <td>127.52</td>\n",
       "      <td>94.6</td>\n",
       "      <td>8.1</td>\n",
       "      <td>251.0</td>\n",
       "      <td>57.0</td>\n",
       "      <td>0.89</td>\n",
       "      <td>2.40</td>\n",
       "      <td>-6.0</td>\n",
       "      <td>43.0</td>\n",
       "      <td>186.0</td>\n",
       "      <td>0.0</td>\n",
       "    </tr>\n",
       "  </tbody>\n",
       "</table>\n",
       "</div>"
      ],
      "text/plain": [
       "   happiness  hay freshness  coat silkiness  run length  temp  SCMLP  \\\n",
       "0     138.70           89.1             6.8       263.0  62.0   1.00   \n",
       "1     121.87           93.4             8.0       264.0  63.0   1.00   \n",
       "2     117.31           85.9             7.6       243.0  55.0   0.84   \n",
       "3      80.69           89.1             6.0       260.0  52.0   0.73   \n",
       "4     127.52           94.6             8.1       251.0  57.0   0.89   \n",
       "\n",
       "   handler GPA  score diff  star yards  ice cream sold  shark attacks  \n",
       "0         2.04         0.0        25.0           196.0            3.0  \n",
       "1         2.69        -4.0        21.0           189.0            1.0  \n",
       "2         3.17        -2.0        11.0           219.0            0.0  \n",
       "3         2.13       -13.0       107.0           101.0            0.0  \n",
       "4         2.40        -6.0        43.0           186.0            0.0  "
      ]
     },
     "execution_count": 50,
     "metadata": {},
     "output_type": "execute_result"
    }
   ],
   "source": [
    "dfRalphie = pd.read_csv('https://raw.githubusercontent.com/chrisketelsen/csci3022/master/practicum/data/ralphie.csv')\n",
    "dfRalph = dfRalphie.dropna(axis=0).copy()\n",
    "dfRalph[\"hay freshness\"] = dfRalph[\"hay freshness\"].apply(lambda x: (x.replace('ƭ','')))\n",
    "dfRalph[\"hay freshness\"] = dfRalph[\"hay freshness\"].apply(lambda x: (float(x)))\n",
    "dfRalph[\"coat silkiness\"] = dfRalph[\"coat silkiness\"].apply(lambda x: (x.replace('ɭ','')))\n",
    "dfRalph[\"coat silkiness\"] = dfRalph[\"coat silkiness\"].apply(lambda x: (float(x)))\n",
    "dfRalph[\"temp\"] = dfRalph[\"temp\"].apply(lambda x: (x.replace('℉','')))\n",
    "dfRalph[\"temp\"] = dfRalph[\"temp\"].apply(lambda x: (float(x)))\n",
    "dfRalph.info()\n",
    "dfRalph.head()"
   ]
  },
  {
   "cell_type": "markdown",
   "metadata": {},
   "source": [
    "**Part B**: Perform the appropriate statistical test at the $\\alpha = 0.05$ significance level to determine if _at least one_ of the features is related to the the response $y$.  Clearly describe your methodology and show all computations in Python. "
   ]
  },
  {
   "cell_type": "code",
   "execution_count": 51,
   "metadata": {},
   "outputs": [
    {
     "data": {
      "text/html": [
       "<table class=\"simpletable\">\n",
       "<caption>OLS Regression Results</caption>\n",
       "<tr>\n",
       "  <th>Dep. Variable:</th>        <td>happiness</td>    <th>  R-squared:         </th> <td>   0.987</td>\n",
       "</tr>\n",
       "<tr>\n",
       "  <th>Model:</th>                   <td>OLS</td>       <th>  Adj. R-squared:    </th> <td>   0.986</td>\n",
       "</tr>\n",
       "<tr>\n",
       "  <th>Method:</th>             <td>Least Squares</td>  <th>  F-statistic:       </th> <td>   572.2</td>\n",
       "</tr>\n",
       "<tr>\n",
       "  <th>Date:</th>             <td>Thu, 14 Dec 2017</td> <th>  Prob (F-statistic):</th> <td>8.10e-66</td>\n",
       "</tr>\n",
       "<tr>\n",
       "  <th>Time:</th>                 <td>06:22:16</td>     <th>  Log-Likelihood:    </th> <td> -249.37</td>\n",
       "</tr>\n",
       "<tr>\n",
       "  <th>No. Observations:</th>      <td>    85</td>      <th>  AIC:               </th> <td>   520.7</td>\n",
       "</tr>\n",
       "<tr>\n",
       "  <th>Df Residuals:</th>          <td>    74</td>      <th>  BIC:               </th> <td>   547.6</td>\n",
       "</tr>\n",
       "<tr>\n",
       "  <th>Df Model:</th>              <td>    10</td>      <th>                     </th>     <td> </td>   \n",
       "</tr>\n",
       "<tr>\n",
       "  <th>Covariance Type:</th>      <td>nonrobust</td>    <th>                     </th>     <td> </td>   \n",
       "</tr>\n",
       "</table>\n",
       "<table class=\"simpletable\">\n",
       "<tr>\n",
       "         <td></td>           <th>coef</th>     <th>std err</th>      <th>t</th>      <th>P>|t|</th> <th>[95.0% Conf. Int.]</th> \n",
       "</tr>\n",
       "<tr>\n",
       "  <th>const</th>          <td>  -35.2765</td> <td>   13.517</td> <td>   -2.610</td> <td> 0.011</td> <td>  -62.210    -8.343</td>\n",
       "</tr>\n",
       "<tr>\n",
       "  <th>hay freshness</th>  <td>    0.9940</td> <td>    0.113</td> <td>    8.832</td> <td> 0.000</td> <td>    0.770     1.218</td>\n",
       "</tr>\n",
       "<tr>\n",
       "  <th>coat silkiness</th> <td>    4.0447</td> <td>    0.689</td> <td>    5.868</td> <td> 0.000</td> <td>    2.671     5.418</td>\n",
       "</tr>\n",
       "<tr>\n",
       "  <th>run length</th>     <td>    0.4486</td> <td>    0.037</td> <td>   12.183</td> <td> 0.000</td> <td>    0.375     0.522</td>\n",
       "</tr>\n",
       "<tr>\n",
       "  <th>temp</th>           <td>   -0.9955</td> <td>    0.082</td> <td>  -12.181</td> <td> 0.000</td> <td>   -1.158    -0.833</td>\n",
       "</tr>\n",
       "<tr>\n",
       "  <th>SCMLP</th>          <td>   -2.7631</td> <td>    3.823</td> <td>   -0.723</td> <td> 0.472</td> <td>  -10.380     4.854</td>\n",
       "</tr>\n",
       "<tr>\n",
       "  <th>handler GPA</th>    <td>    0.8343</td> <td>    0.969</td> <td>    0.861</td> <td> 0.392</td> <td>   -1.096     2.765</td>\n",
       "</tr>\n",
       "<tr>\n",
       "  <th>score diff</th>     <td>    5.0875</td> <td>    0.083</td> <td>   61.298</td> <td> 0.000</td> <td>    4.922     5.253</td>\n",
       "</tr>\n",
       "<tr>\n",
       "  <th>star yards</th>     <td>   -0.0108</td> <td>    0.014</td> <td>   -0.749</td> <td> 0.457</td> <td>   -0.040     0.018</td>\n",
       "</tr>\n",
       "<tr>\n",
       "  <th>ice cream sold</th> <td>    0.0127</td> <td>    0.011</td> <td>    1.121</td> <td> 0.266</td> <td>   -0.010     0.035</td>\n",
       "</tr>\n",
       "<tr>\n",
       "  <th>shark attacks</th>  <td>    0.4050</td> <td>    0.694</td> <td>    0.584</td> <td> 0.561</td> <td>   -0.978     1.788</td>\n",
       "</tr>\n",
       "</table>\n",
       "<table class=\"simpletable\">\n",
       "<tr>\n",
       "  <th>Omnibus:</th>       <td> 0.893</td> <th>  Durbin-Watson:     </th> <td>   2.062</td>\n",
       "</tr>\n",
       "<tr>\n",
       "  <th>Prob(Omnibus):</th> <td> 0.640</td> <th>  Jarque-Bera (JB):  </th> <td>   0.985</td>\n",
       "</tr>\n",
       "<tr>\n",
       "  <th>Skew:</th>          <td> 0.170</td> <th>  Prob(JB):          </th> <td>   0.611</td>\n",
       "</tr>\n",
       "<tr>\n",
       "  <th>Kurtosis:</th>      <td> 2.597</td> <th>  Cond. No.          </th> <td>8.60e+03</td>\n",
       "</tr>\n",
       "</table>"
      ],
      "text/plain": [
       "<class 'statsmodels.iolib.summary.Summary'>\n",
       "\"\"\"\n",
       "                            OLS Regression Results                            \n",
       "==============================================================================\n",
       "Dep. Variable:              happiness   R-squared:                       0.987\n",
       "Model:                            OLS   Adj. R-squared:                  0.986\n",
       "Method:                 Least Squares   F-statistic:                     572.2\n",
       "Date:                Thu, 14 Dec 2017   Prob (F-statistic):           8.10e-66\n",
       "Time:                        06:22:16   Log-Likelihood:                -249.37\n",
       "No. Observations:                  85   AIC:                             520.7\n",
       "Df Residuals:                      74   BIC:                             547.6\n",
       "Df Model:                          10                                         \n",
       "Covariance Type:            nonrobust                                         \n",
       "==================================================================================\n",
       "                     coef    std err          t      P>|t|      [95.0% Conf. Int.]\n",
       "----------------------------------------------------------------------------------\n",
       "const            -35.2765     13.517     -2.610      0.011       -62.210    -8.343\n",
       "hay freshness      0.9940      0.113      8.832      0.000         0.770     1.218\n",
       "coat silkiness     4.0447      0.689      5.868      0.000         2.671     5.418\n",
       "run length         0.4486      0.037     12.183      0.000         0.375     0.522\n",
       "temp              -0.9955      0.082    -12.181      0.000        -1.158    -0.833\n",
       "SCMLP             -2.7631      3.823     -0.723      0.472       -10.380     4.854\n",
       "handler GPA        0.8343      0.969      0.861      0.392        -1.096     2.765\n",
       "score diff         5.0875      0.083     61.298      0.000         4.922     5.253\n",
       "star yards        -0.0108      0.014     -0.749      0.457        -0.040     0.018\n",
       "ice cream sold     0.0127      0.011      1.121      0.266        -0.010     0.035\n",
       "shark attacks      0.4050      0.694      0.584      0.561        -0.978     1.788\n",
       "==============================================================================\n",
       "Omnibus:                        0.893   Durbin-Watson:                   2.062\n",
       "Prob(Omnibus):                  0.640   Jarque-Bera (JB):                0.985\n",
       "Skew:                           0.170   Prob(JB):                        0.611\n",
       "Kurtosis:                       2.597   Cond. No.                     8.60e+03\n",
       "==============================================================================\n",
       "\n",
       "Warnings:\n",
       "[1] Standard Errors assume that the covariance matrix of the errors is correctly specified.\n",
       "[2] The condition number is large, 8.6e+03. This might indicate that there are\n",
       "strong multicollinearity or other numerical problems.\n",
       "\"\"\""
      ]
     },
     "execution_count": 51,
     "metadata": {},
     "output_type": "execute_result"
    }
   ],
   "source": [
    "y, X = dfRalph[\"happiness\"], dfRalph.iloc[:,1:]\n",
    "X = sm.add_constant(X)\n",
    "model = sm.OLS(y, X).fit() \n",
    "model.summary()"
   ]
  },
  {
   "cell_type": "markdown",
   "metadata": {},
   "source": [
    "Since the probability of the F-statistic is a lot lower than 0.5 we have good reason to reject the null hypothesis in favor of the alternative hypothesis."
   ]
  },
  {
   "cell_type": "markdown",
   "metadata": {},
   "source": [
    "**Part C**: Write a function **forward_select**(df, resp_str, maxk) that takes in the DataFrame, the name of the column corresponding to the response, and the max number of desired features, and returns a list of feature names corresponding to the maxk most important features via forward selection.  At each stage in forward selection you should add the feature whose inclusion in the model would result in the lowest sum of squared errors $(SSE)$. Use your function to determine the best $k=5$ features to include in the model. Clearly indicate which feature was added in each stage. \n",
    "\n",
    "**Note**: The point of this exercise is to see if you can implement **foward_select** yourself.  You may of course use canned routines like statmodels OLS, but you may not call any Python method that explicitly performs forward selection. "
   ]
  },
  {
   "cell_type": "code",
   "execution_count": 45,
   "metadata": {
    "scrolled": false
   },
   "outputs": [
    {
     "name": "stdout",
     "output_type": "stream",
     "text": [
      "shark attacks are most important features\n",
      "ice cream sold are most important features\n",
      "star yards are most important features\n",
      "score diff are most important features\n",
      "handler GPA are most important features\n"
     ]
    },
    {
     "data": {
      "text/plain": [
       "['shark attacks', 'ice cream sold', 'star yards', 'score diff', 'handler GPA']"
      ]
     },
     "execution_count": 45,
     "metadata": {},
     "output_type": "execute_result"
    }
   ],
   "source": [
    "def forward_select(df, resp_str, maxk):\n",
    "    y = df[resp_str]\n",
    "    x = df.drop(resp_str, axis=1)\n",
    "    Func = np.zeros(len(ResponseY))\n",
    "    for i in range(len(Func)):\n",
    "        current, bestF = 1, []\n",
    "        model = sm.OLS(y, x).fit() \n",
    "        Func[i] = model.params[0]\n",
    "    while current > maxk:\n",
    "        return False\n",
    "        continue\n",
    "    while current <= maxk:\n",
    "        bParam = []\n",
    "        col = x.columns.get_values()\n",
    "        for i in range(len(col)):\n",
    "            if col[i] != \"const\":\n",
    "                if col[i] not in bestF:\n",
    "                    bParam = col[i]\n",
    "            elif col[i] == \"const\":\n",
    "                continue\n",
    "        bestF.append(bParam)\n",
    "        current = current + 1\n",
    "        print(\"{} are most important features\".format(bParam))           \n",
    "    return bestF\n",
    "forward_select(dfRalph, \"happiness\", 5)"
   ]
  },
  {
   "cell_type": "markdown",
   "metadata": {},
   "source": [
    "**Part D**: Write down the multiple linear regression model, including estimated parameters, obtained by your forward selection process. "
   ]
  },
  {
   "cell_type": "markdown",
   "metadata": {
    "collapsed": true
   },
   "source": [
    "- The multiple linear regression model: \n",
    "- $$\\hat y = -35.2765 + 0.4050x_1 + 0.0127x_2 - 0.0108x_3 + 5.0875x_4 +0.8343x_5$$\n",
    "- $x_1$ is shark attacks, $x_2$ is ice cream sold, $x_3$ is star yards, $x_4$ score diff, and $x_5$ handler GPA.  "
   ]
  },
  {
   "cell_type": "markdown",
   "metadata": {},
   "source": [
    "**Part E**: Perform the appropriate statistical test at the $\\alpha = 0.05$ significance level to determine whether there is a statistically significant difference between the full model with all features and the reduced model obtained by forward selection in **Part D**. "
   ]
  },
  {
   "cell_type": "code",
   "execution_count": 46,
   "metadata": {},
   "outputs": [
    {
     "name": "stdout",
     "output_type": "stream",
     "text": [
      "p-value = 1.11022302463e-16\n",
      "SSE full model = 1758.54678655\n",
      "SSE reduced model = 3707125.75322\n",
      "Using the F-test we get F = 31184.5184186\n"
     ]
    }
   ],
   "source": [
    "ResponseY = dfRalph[\"happiness\"].values\n",
    "hay = dfRalph[\"hay freshness\"].values\n",
    "coat = dfRalph[\"coat silkiness\"].values\n",
    "run = dfRalph[\"run length\"].values\n",
    "temp = dfRalph[\"temp\"].values\n",
    "SCMLP = dfRalph[\"SCMLP\"].values\n",
    "mean = dfRalph[\"handler GPA\"].values\n",
    "score = dfRalph[\"score diff\"].values\n",
    "star = dfRalph[\"star yards\"].values\n",
    "ice = dfRalph[\"ice cream sold\"].values\n",
    "shark = dfRalph[\"shark attacks\"].values\n",
    "\n",
    "full = -35.2765079524 + 0.993970430155*hay + 4.04469641937*coat + 0.448604128706*run + -0.995528009085*temp + -2.7631312727*SCMLP + 0.834257527007*mean + 5.08746602272*score + -0.0108379744878*star + 0.0127111749235*ice + 0.404983791222*shark\n",
    "Partial = -35.2765079524 + 0.4050*shark + 0.0127*ice - 0.0108*star + 5.0875*mean - 0.8343*temp \n",
    "SSE_part = np.sum((ResponseY-Partial)**2)\n",
    "SSE_full = np.sum((ResponseY-full)**2)\n",
    "Res_y = (len(ResponseY)-11)\n",
    "F_test = ((SSE_part - SSE_full)/(5))/(SSE_full/(Res_y))\n",
    "p_value = 1 - stats.f.cdf(F_test, 5, Res_y) \n",
    "print(\"p-value =\", p_value)\n",
    "print(\"SSE full model =\", SSE_full)\n",
    "print(\"SSE reduced model =\", SSE_part)\n",
    "print(\"Using the F-test we get F =\", F_test)"
   ]
  },
  {
   "cell_type": "markdown",
   "metadata": {},
   "source": [
    "P-value of $1.11022302463 \\cdot 10^{-16} < 0.05$, so we can reject the null hypothesis. Since the SSE of the reduced model ($3707125.75322$), is larger than the SSE of the full model ($1758.54678655$), full model is better than the reduced model."
   ]
  },
  {
   "cell_type": "markdown",
   "metadata": {},
   "source": [
    "**Part F**: Based on your conclusions in **Part E**, use the _better_ of the two models to predict Ralphie's happiness when the following features are observed: \n",
    "\n",
    "- $\\texttt{hay freshness}$: 92 Freshies \n",
    "- $\\texttt{coat silkiness}$: 8.5 Laramores \n",
    "- $\\texttt{run length}$: 275 yards \n",
    "- $\\texttt{temp}$: 45F \n",
    "- $\\texttt{SCMLP}$: 0.80 \n",
    "- $\\texttt{mean GPA}$: 3.50 \n",
    "- $\\texttt{score diff}$: -10 \n",
    "- $\\texttt{star yards}$: 55 \n",
    "- $\\texttt{ice cream sold}$: 125\n",
    "- $\\texttt{shark attacks}$: 2 "
   ]
  },
  {
   "cell_type": "code",
   "execution_count": 47,
   "metadata": {},
   "outputs": [
    {
     "name": "stdout",
     "output_type": "stream",
     "text": [
      "The estimate of Ralphie's 'happiness' doing the full model with the above features is: 120.75702000000001\n"
     ]
    }
   ],
   "source": [
    "hay, coat, run, temp, SCLMP, mean, score, star, ice, shark = 92,8.5,275,45,0.80,3.5,-10,55,125,2\n",
    "total = -35.2765 + 0.9940*hay + 4.0447*coat + 0.4486*run + -0.9955*temp + -2.7631*SCLMP + 0.8343*mean + 5.0875*score + -0.0108*star + 0.0127*ice + 0.4050*shark\n",
    "print (\"The estimate of Ralphie's 'happiness' doing the full model with the above features is: {}\".format(total))"
   ]
  },
  {
   "cell_type": "code",
   "execution_count": null,
   "metadata": {
    "collapsed": true
   },
   "outputs": [],
   "source": []
  }
 ],
 "metadata": {
  "kernelspec": {
   "display_name": "Python 3",
   "language": "python",
   "name": "python3"
  },
  "language_info": {
   "codemirror_mode": {
    "name": "ipython",
    "version": 3
   },
   "file_extension": ".py",
   "mimetype": "text/x-python",
   "name": "python",
   "nbconvert_exporter": "python",
   "pygments_lexer": "ipython3",
   "version": "3.5.4"
  }
 },
 "nbformat": 4,
 "nbformat_minor": 2
}
