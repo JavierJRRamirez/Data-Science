{
 "cells": [
  {
   "cell_type": "markdown",
   "metadata": {},
   "source": [
    "# Homework 6: Hypothesis Testing, P-Hacking, and Simple Linear Regression \n",
    "***\n",
    "\n",
    "**Name**: Javier Ramirez\n",
    "\n",
    "**Section**: 001\n",
    "***\n",
    "\n",
    "This assignment is due on Moodle by **5pm on Friday December 1st**. Your solutions to theoretical questions should be done in Markdown/MathJax directly below the associated question.  Your solutions to computational questions should include any specified Python code and results as well as written commentary on your conclusions.  Remember that you are encouraged to discuss the problems with your instructors and classmates, but **you must write all code and solutions on your own**.  For a refresher on the course **Collaboration Policy** click [here](https://github.com/chrisketelsen/csci3022/blob/master/resources/syllabus.md#collaboration-policy).  \n",
    "\n",
    "**NOTES**: \n",
    "\n",
    "- Do **NOT** load or use any Python packages that are not available in Anaconda 3.6. \n",
    "- Some problems with code may be autograded.  If we provide a function API **do not** change it.  If we do not provide a function API then you're free to structure your code however you like. \n",
    "- Because you can technically evaluate notebook cells is a non-linear order, it's a good idea to do Cell $\\rightarrow$ Run All as a check before submitting your solutions.  That way if we need to run your code you will know that it will work as expected. \n",
    "- Submit only this Jupyter notebook to Moodle.  Do not compress it using tar, rar, zip, etc. "
   ]
  },
  {
   "cell_type": "code",
   "execution_count": 74,
   "metadata": {
    "collapsed": true,
    "scrolled": true
   },
   "outputs": [],
   "source": [
    "import numpy as np\n",
    "import matplotlib.pylab as plt\n",
    "import pandas as pd\n",
    "from scipy import stats \n",
    "%matplotlib inline"
   ]
  },
  {
   "cell_type": "markdown",
   "metadata": {},
   "source": [
    "### [15 points] Problem 1 - Hypothesis Testing: Find-the-Knowledge-Bug \n",
    "***\n",
    "\n",
    "As part of your job as a seasoned data science consultant, companies often bring you in to supervise their less-experienced data science teams before new product roll-outs.  One one such occasion, you are hired by a medium-sized internet-sales company that is preparing to release a new line of smart-home products.  Prior to their product release the company wants to do a targeted ad campaign to drive traffic to their site on launch day. \n",
    "\n",
    "You are asked to pair-up and do some inference work with a new employee named Stevey McKnowsNoStats. At various points in your day you catch Stevey making the following mistakes.  In each case, clearly explain to Stevey why his testing setup or conclusion is incorrect. "
   ]
  },
  {
   "cell_type": "markdown",
   "metadata": {},
   "source": [
    "**Part A**: Stevey has pulled up some data on the characteristics of customers that visited the company's website over the previous month.  He wants to perform an analysis on the mean age of customers that visit the site.  Let $X$ be the random variable describing the age of a site visitor and suppose that the population mean for $X$ is $\\mu$. In particular, Stevey wants to see if the data suggests that the mean age of their customers is under 30 years old.   He decides to perform the test with a null hypothesis of $H_0: \\bar{x} = 30$. "
   ]
  },
  {
   "cell_type": "markdown",
   "metadata": {
    "collapsed": true
   },
   "source": [
    "Stevey should use is the population mean for X instead of $\\bar x$, where X is the random variable of a the age of site visitors, which is $\\mu$. For the hypothesis he should use $\\mu$ instead of $\\bar x$. Stevey should also use the sample mean alternatively for population mean for the null hypothesis.  "
   ]
  },
  {
   "cell_type": "markdown",
   "metadata": {},
   "source": [
    "**Part B**: After the wonderful explanation you gave him after the previous debacle, Stevey has seen the error in his ways and decides instead to do his hypothesis test with a null hypothesis of $H_0: \\mu < 30$.  "
   ]
  },
  {
   "cell_type": "markdown",
   "metadata": {
    "collapsed": true
   },
   "source": [
    "Since the null hypothesis is said to be true from the start, and the target for hypothesis testing from the data sample, determines if there is an alternate hypothesis can be found from the data; this mean we then have to reject the first null hypothesis. Since Stevey wants to know the mean age of customers are under 30 years old, the alterate hypothesis he should have is $H_1: \\mu < 30$. Then the null hypothesis should be $H_0: \\mu = 30$."
   ]
  },
  {
   "cell_type": "markdown",
   "metadata": {},
   "source": [
    "**Part C**: Finally on track with reasonable hypotheses of $H_0: \\mu = 30$ and $H_1: \\mu < 30$, Stevey computes a normalized test-statistic of $z = -1.35$ for the mean age and concludes that since $z = -1.35 < 0.05$ there is sufficient statistical evidence at the $\\alpha = 0.05$ significance level that the mean age of their customers is less than 30.  "
   ]
  },
  {
   "cell_type": "code",
   "execution_count": 75,
   "metadata": {},
   "outputs": [
    {
     "name": "stdout",
     "output_type": "stream",
     "text": [
      "-z_a: -1.64485362695\n"
     ]
    }
   ],
   "source": [
    "print(\"-z_a:\", stats.norm.ppf(0.05))"
   ]
  },
  {
   "cell_type": "markdown",
   "metadata": {},
   "source": [
    "If z is equal to $-1.35$ then $z = -1.35 \\leq -1.64$, This tells us about the means that we can't reject the null hypothesis, so Stevey can't come to the conclusion that the mean age of the customers is less then 30."
   ]
  },
  {
   "cell_type": "markdown",
   "metadata": {},
   "source": [
    "**Part D**: This time, with the hypotheses again $H_0: \\mu = 30$ and $H_1: \\mu < 30$, Stevey computes a p-value of $0.03$, and thus concludes that there is only a 3% probability that the null hypothesis is true. "
   ]
  },
  {
   "cell_type": "markdown",
   "metadata": {
    "collapsed": true
   },
   "source": [
    "Stevey is not correct about the p-value. The null hypothesis would say that the p-value is the probability that the test statistic would be simalar to the one we computed. If p-value is small, we can reject the null hypothesis. Having a p-value be 0.03 says that their is a 3% chance of having a test statistic similar to the one we computed, by assuming the null hypothesis is true."
   ]
  },
  {
   "cell_type": "markdown",
   "metadata": {},
   "source": [
    "### [10 points] Problem 2 - Scientists vs. P-Values \n",
    "***\n",
    "\n",
    "Read the following article from **FiveThirtyEight**: [Statisticians Found One Thing They Can Agree On: It's Time to Stop Misusing P-Values](http://fivethirtyeight.com/features/statisticians-found-one-thing-they-can-agree-on-its-time-to-stop-misusing-p-values/). In what ways are scientists misusing p-values?  What suggestions are being made to use them properly? "
   ]
  },
  {
   "cell_type": "markdown",
   "metadata": {
    "collapsed": true
   },
   "source": [
    "The ways that scientist are misusing p-values are: the conception that p-values can tell you the probability that a result occurred by chance, p-values don’t tell you the measure the probability that the studied theory is correct, or the probability that the data were developed by random chance only and p-values also don’t how important the results are. The suggestions that are being made to use them properly is that the solution is not to reform p-values or to replace them with other probable encapsulation, but to progress toward a greater acceptance of unpredictable  and contribute to the variations. "
   ]
  },
  {
   "cell_type": "markdown",
   "metadata": {},
   "source": [
    "### [20 points] Problem 3 - Evaluating Pizza Delivery Performance \n",
    "***\n",
    "\n",
    "The manager of a pizza chain with multiple locations likes to keep meticulous data on his pizza deliveries.  The data from more than 1200 deliveries in May 2014 is stored in pizza.csv. Load this data into a Pandas DataFrame. "
   ]
  },
  {
   "cell_type": "code",
   "execution_count": 76,
   "metadata": {},
   "outputs": [
    {
     "name": "stdout",
     "output_type": "stream",
     "text": [
      "<class 'pandas.core.frame.DataFrame'>\n",
      "RangeIndex: 1266 entries, 0 to 1265\n",
      "Data columns (total 9 columns):\n",
      "day            1266 non-null object\n",
      "date           1266 non-null object\n",
      "time           1266 non-null float64\n",
      "operator       1266 non-null object\n",
      "branch         1266 non-null object\n",
      "driver         1266 non-null object\n",
      "temperature    1266 non-null float64\n",
      "bill           1266 non-null float64\n",
      "pizzas         1266 non-null int64\n",
      "dtypes: float64(3), int64(1), object(5)\n",
      "memory usage: 89.1+ KB\n"
     ]
    }
   ],
   "source": [
    "web = 'https://raw.githubusercontent.com/chrisketelsen/csci3022/master/hmwk/hmwk06/data/pizza.csv'\n",
    "dfPizza = pd.read_csv(web)\n",
    "dfPizza.info()"
   ]
  },
  {
   "cell_type": "markdown",
   "metadata": {},
   "source": [
    "**Part A**: The manager's goal is to have an average delivery time across all branches of less than 30 minutes.  Perform an appropriate hypothesis test at the $\\alpha=0.05$ significance level to evaluate whether this goal has been achieved.  Be sure to clearly state your null and alternate hypothesis, describe your testing procedure, and show all calculations in Python. "
   ]
  },
  {
   "cell_type": "markdown",
   "metadata": {
    "collapsed": true
   },
   "source": [
    "$$\n",
    "z = \\frac{\\bar{x} - \\mu} {\\frac{\\sigma}{\\sqrt{n}}}\n",
    "$$"
   ]
  },
  {
   "cell_type": "code",
   "execution_count": 77,
   "metadata": {},
   "outputs": [
    {
     "name": "stdout",
     "output_type": "stream",
     "text": [
      "number of deliveries: 1266\n",
      "z: -3.171207747489349\n",
      "-z_a: -1.6448536269514729\n",
      "standard deviation of delivery time: 6.1115911859110374\n",
      "mean (average delivery time): 29.4552940278904\n"
     ]
    }
   ],
   "source": [
    "z_o = stats.norm.ppf(0.05)\n",
    "\n",
    "s = dfPizza[\"time\"].std()\n",
    "m = dfPizza[\"time\"].mean()\n",
    "n = dfPizza[\"time\"].count()\n",
    "\n",
    "z = (m - 30)/(s/n**(.5))\n",
    "print(\"number of deliveries: {}\".format(n))\n",
    "print(\"z: {}\".format(z))\n",
    "print(\"-z_a: {}\".format(z_o))\n",
    "print(\"standard deviation of delivery time: {}\".format(s))\n",
    "print(\"mean (average delivery time): {}\".format(m))"
   ]
  },
  {
   "cell_type": "markdown",
   "metadata": {},
   "source": [
    "- Null Hypothesis of $H_0$ is the pizzas are delivered in precisely 30 min to all places. \n",
    "- Alternate Hypothesis of $H_1$ is the pizzas are delivered in less than 30 min to all places.\n",
    "- Since $z$ is less than $-z_a$, we can make with a good logic to reject the null hypothesis. "
   ]
  },
  {
   "cell_type": "markdown",
   "metadata": {},
   "source": [
    "**Part B**: The manager also has the goal of having an average delivery temperature across all branches of greater than 65F.  Perform an appropriate hypothesis test at the $\\alpha=0.05$ significance level to evaluate whether this goal has been achieved.  Be sure to clearly state your null and alternate hypothesis, describe your testing procedure, and show all calculations in Python. "
   ]
  },
  {
   "cell_type": "markdown",
   "metadata": {},
   "source": [
    "$$z = \\frac{\\bar x - 65}{\\frac{\\sigma}{\\sqrt{n}}}$$"
   ]
  },
  {
   "cell_type": "code",
   "execution_count": 78,
   "metadata": {},
   "outputs": [
    {
     "name": "stdout",
     "output_type": "stream",
     "text": [
      "n: 1266\n",
      "z: 1.3820886485016115\n",
      "z_a: 1.6448536269514729\n",
      "standard deviation: 7.066708813711673\n",
      "mean (average delivery temperatures): 65.27449614117367\n"
     ]
    }
   ],
   "source": [
    "z_o = stats.norm.ppf(0.05)\n",
    "s = dfPizza[\"temperature\"].std()\n",
    "m = dfPizza[\"temperature\"].mean()\n",
    "n = dfPizza[\"temperature\"].count()\n",
    "\n",
    "z = (m - 65)/(s/n**(.5))\n",
    "print(\"n: {}\".format(n))\n",
    "print(\"z: {}\".format(z))\n",
    "print(\"z_a: {}\".format(-z_o))\n",
    "print(\"standard deviation: {}\".format(s))\n",
    "print(\"mean (average delivery temperatures): {}\".format(m))"
   ]
  },
  {
   "cell_type": "markdown",
   "metadata": {},
   "source": [
    "- Null Hypothesis of $H_0$ is the pizzas are delivered with temperature of 65F to all places. \n",
    "- Alternate Hypothesis of $H_1$ is the pizzas are delivered with temperature greater than 65F to all places.\n",
    "- Since $z$ is less than $z_a$, we can't make with a good logic to reject the null hypothesis.  "
   ]
  },
  {
   "cell_type": "markdown",
   "metadata": {},
   "source": [
    "**Part C**: The manager has enough money to give one of his delivery drivers a raise based on good performance. He knows from the data that his two best drivers are Mario and Luigi, but he's not sure if there is evidence that either one is better than the other.  Using delivery time and temperature as the criteria, perform any necessary hypothesis tests at the $\\alpha = 0.05$ significance level, to determine if one of the drivers deserves a raise. Be sure to clearly describe your hypotheses and methodology, and show any relevant computations in Python. "
   ]
  },
  {
   "cell_type": "markdown",
   "metadata": {},
   "source": [
    "- The manager can check if their is enough difference between the two drivers or not. Then he can determine which one deserves a raise.\n",
    "- The null hypothesis of $H_0: \\mu (mario) - \\mu (luigi) =0$\n",
    "- The alternative hypothesis of $H_1: \\mu (mario) - \\mu (luigi) \\not = 0$"
   ]
  },
  {
   "cell_type": "markdown",
   "metadata": {},
   "source": [
    "I will be using the p-test for the difference between the means of the two drivers, then it will be more clear to see when we would want to or not want to, reject the null hypothesis, we can then be more accurate to determine which driver had a better performance by using serveral p-test."
   ]
  },
  {
   "cell_type": "code",
   "execution_count": 163,
   "metadata": {},
   "outputs": [
    {
     "name": "stdout",
     "output_type": "stream",
     "text": [
      "Since the value we get is  0.996516299573 it is larger than 0.05, so we fail to reject the null hypothesis for the time\n",
      "Since the value we get is  0.338800921525 it is larger than 0.05, so we fail to reject the null hypothesis for the temperature\n"
     ]
    }
   ],
   "source": [
    "dfPizza_Mario = dfPizza.loc[dfPizza[\"driver\"] == \"Mario\"]\n",
    "dfPizza_Luigi = dfPizza.loc[dfPizza[\"driver\"] == \"Luigi\"]\n",
    "Luigi_mean_Time = dfPizza_Luigi[\"time\"].mean()\n",
    "Luigi_std_Time = dfPizza_Luigi[\"time\"].std()\n",
    "Luigi_n = dfPizza_Luigi[\"time\"].count()\n",
    "Mario_mean_Time = dfPizza_Mario[\"time\"].mean()\n",
    "Mario_std_Time = dfPizza_Mario[\"time\"].std()\n",
    "Mario_n = dfPizza_Mario[\"time\"].count()  \n",
    "lui = (Luigi_std_Time**2/Luigi_n)\n",
    "za_Mean_Time = (Mario_mean_Time - Luigi_mean_Time)/np.sqrt((Mario_std_Time**2/Mario_n) + lui)\n",
    "p_Mean_Time = 2 * stats.norm.cdf(-abs(za_Mean_Time))\n",
    "print(\"Since the value we get is \", p_Mean_Time, \"it is larger than 0.05, so we fail to reject the null hypothesis for the time\")\n",
    "Mario_mean_Temp = dfPizza_Mario[\"temperature\"].mean()\n",
    "Mario_std_Temp = dfPizza_Mario[\"temperature\"].std()\n",
    "Luigi_mean_Temp = dfPizza_Luigi[\"temperature\"].mean()\n",
    "Luigi_std_Temp = dfPizza_Luigi[\"temperature\"].std()\n",
    "mar = (Luigi_std_Temp**2/Luigi_n)\n",
    "za_Mean_Temp = (Mario_mean_Temp - Luigi_mean_Temp)/np.sqrt((Mario_std_Temp**2/Mario_n) + mar)\n",
    "pMeanTemp = 2 * stats.norm.cdf(-abs(za_Mean_Temp))\n",
    "print(\"Since the value we get is \", pMeanTemp, \"it is larger than 0.05, so we fail to reject the null hypothesis for the temperature\")"
   ]
  },
  {
   "cell_type": "markdown",
   "metadata": {},
   "source": [
    "Since the values are greater than 0.05 we fail to reject the null hypothesis for the time and temperature. So their is not enough differece between the drivers performance, to figure out which driver gets a raise."
   ]
  },
  {
   "cell_type": "markdown",
   "metadata": {},
   "source": [
    "**Part D**: On the other hand, the manager suspects that Salvatore has been underperforming as a driver.  The manager has a policy that if a pizza takes 40 minutes or longer to be delivered, he has to fork over a free bottle of wine.  This policy is only financially viable for the pizza chain if they have give out free wine on less than 5% of all pizza deliveries.  Perform a hypothesis test at the $\\alpha = 0.05$ significance level to determine if there is significant evidence that the proportion of Salvatore's deliveries that take longer than 40 minutes is greater than 5%.  "
   ]
  },
  {
   "cell_type": "markdown",
   "metadata": {},
   "source": [
    "- The null hypothesis of $H_0: \\hat p = 0.05$\n",
    "- The alternative hypothesis of $H_1: \\hat p > 0.05$\n",
    "- We want to see if we can reject the null hypothesis for the alternative hypothesis, the proportion of Salvatore's deliveries that took 40 min or greater than 5%. If this is the case then it would not be in the company interest to still keep Salvatore."
   ]
  },
  {
   "cell_type": "code",
   "execution_count": 80,
   "metadata": {},
   "outputs": [
    {
     "name": "stdout",
     "output_type": "stream",
     "text": [
      "z_a =  1.64485362695\n",
      "z = 0.424847674536\n",
      "Salvatore deliveries that are over 40 minutes = 0.0552325581395\n",
      "Standard deviation =  0.000151691635642\n",
      "Salvatore total of deliveries = 344\n"
     ]
    }
   ],
   "source": [
    "dfPizza_Salvatore = dfPizza.loc[dfPizza[\"driver\"] == \"Salvatore\"]\n",
    "Salvatore_time = dfPizza_Salvatore.loc[dfPizza_Salvatore[\"time\"] >= 40]\n",
    "Salvatore_time = Salvatore_time[\"time\"].count()\n",
    "Salvatore_n = dfPizza_Salvatore[\"time\"].count()\n",
    "Salvatore_time = Salvatore_time / Salvatore_n\n",
    "Salvatore_std = (Salvatore_time*(1-Salvatore_time)) / Salvatore_n\n",
    "za = stats.norm.ppf(1-0.05)\n",
    "Salvatore_Time = (Salvatore_time - a)/np.sqrt(Salvatore_std)\n",
    "print(\"z_a = \", za)\n",
    "print(\"z =\", Salvatore_Time)\n",
    "print(\"Salvatore deliveries that are over 40 minutes =\", Salvatore_time)\n",
    "print(\"Standard deviation = \", Salvatore_std)\n",
    "print(\"Salvatore total of deliveries =\", Salvatore_n)"
   ]
  },
  {
   "cell_type": "markdown",
   "metadata": {},
   "source": [
    "Since 0.42(z) is not greater than or equal to 1.64(z_a), we have failed to reject the null hypothesis, so there is not enough support, that more than 5% of Salvatore's deliveries take 40 min or longer. So the company can still keep him without losing money."
   ]
  },
  {
   "cell_type": "markdown",
   "metadata": {},
   "source": [
    "### [15 points] Problem 4 - Naps vs Coffee for Memory? \n",
    "***\n",
    "\n",
    "The consumption of coffee to benefit alertness is a common activity practiced by 90% of adults in North America. Often coffee is used to replace the need for sleep. One recent study compares students’ ability to recall memorized information after either the consumption of coffee or a brief nap. A random sample of 24 adults\n",
    "were randomly divided into two groups and verbally given a list\n",
    "of 25 words to memorize. During a break, one of the groups took a nap for an hour and a half,\n",
    "another group stayed awake and were given a coffee an hour prior to testing. Researchers measured the number of words participants were\n",
    "able to recall following the break. The summary statistics for the two groups are shown below.\n",
    "\n",
    "$$\n",
    "\\begin{array}{c|c|c|c}\n",
    "\\textrm{Group} & \\textrm{Sample Size} & \\textrm{Mean} & \\textrm{Standard Deviation} \\\\\n",
    "\\hline \n",
    "\\textrm{Nap} & 12 & 15.5 & 3.2 \\\\ \n",
    "\\textrm{Coffee} & 12 & 12.25 & 3.1 \\\\ \n",
    "\\end{array}\n",
    "$$\n",
    "\n",
    "In previous experiments the mean recall measurement was found to be normally distributed. \n",
    "\n",
    "**Part A**: Compute a 95% t-confidence interval for the mean recall measurement for participants that took a nap before the test. Do all computations in Python. "
   ]
  },
  {
   "cell_type": "code",
   "execution_count": 81,
   "metadata": {},
   "outputs": [
    {
     "name": "stdout",
     "output_type": "stream",
     "text": [
      "95% t-confidence interval of recall because of Naps: [13.46681700054998,17.53318299945002]\n"
     ]
    }
   ],
   "source": [
    "z = stats.t.ppf(0.975,11)\n",
    "lnap = 15.5 - (z * 3.2 / 12**(.5))\n",
    "rnap = 15.5 + (z * 3.2 / 12**(.5))\n",
    "print(\"95% t-confidence interval of recall because of Naps: [{},{}]\".format(lnap,rnap))"
   ]
  },
  {
   "cell_type": "markdown",
   "metadata": {},
   "source": [
    "**Part B**: Is there sufficient evidence, at the $\\alpha = 0.5$ significance level, to conclude that taking a nap promotes better memory recall that drinking coffee?  Be sure to clearly explain the test that you're doing and state all hypotheses. Do all computations in Python. "
   ]
  },
  {
   "cell_type": "markdown",
   "metadata": {
    "collapsed": true
   },
   "source": [
    "- Null hypothesis of $H_0: \\mu_{nap-recall} - \\mu_{coffee-recall} = 0$\n",
    "- Alternate hypothesis of $H_1: \\mu_{naprecall} - \\mu_{coffeerecall} > 0$\n",
    "- The null hypothesis is if their memory recall mean is zero. It is not zero when the recall of Naps group minus the coffee group is greater than zero."
   ]
  },
  {
   "cell_type": "code",
   "execution_count": 82,
   "metadata": {},
   "outputs": [
    {
     "name": "stdout",
     "output_type": "stream",
     "text": [
      "We can not reject the hypothesis that nap promotes better memory recall that drinking coffee since the value we get is 0.014063236011387481 which is smaller than 0.05.\n"
     ]
    }
   ],
   "source": [
    "z = (15.5 - 12.25) / np.sqrt(3.2**2/ 12 + 3.1**2/12)\n",
    "s = stats.t.cdf(z, 11)\n",
    "t_test = 1 - s\n",
    "print(\"We can not reject the hypothesis that nap promotes better memory recall that drinking coffee since the value we get is {} which is smaller than 0.05.\".format(t_test))"
   ]
  },
  {
   "cell_type": "markdown",
   "metadata": {},
   "source": [
    "**Part C**: Compute a 95% confidence interval for the standard deviation of memory recall for coffee drinkers. Do all computations in Python.  "
   ]
  },
  {
   "cell_type": "code",
   "execution_count": 83,
   "metadata": {},
   "outputs": [
    {
     "name": "stdout",
     "output_type": "stream",
     "text": [
      "95% t-confidence interval of recall for coffee groups: [2.1960249676730244,5.263421854944418]\n"
     ]
    }
   ],
   "source": [
    "n = 12\n",
    "left = np.sqrt((n-1)*3.1**2) / np.sqrt(stats.chi2.ppf(0.975,n-1))\n",
    "right = np.sqrt((n-1)*3.1**(2)) / np.sqrt(stats.chi2.ppf(0.025,n-1))\n",
    "print(\"95% t-confidence interval of recall for coffee groups: [{},{}]\".format(left,right))"
   ]
  },
  {
   "cell_type": "markdown",
   "metadata": {},
   "source": [
    "- $\\sqrt{\\frac{(n-1)S^2}{X_{\\alpha/2,~n-1}^2}} < \\sigma < \\sqrt{\\frac{(n-1)S^2}{X_{1-\\alpha/2,~n-1}^2}}$\n",
    "- $S^2=3.1^2=9.61$ to get the confidence interval we are going to use the connfidence interval for standard deviation."
   ]
  },
  {
   "cell_type": "markdown",
   "metadata": {},
   "source": [
    "### [20 points] Problem 5 - Bad Science for Fun and Profit \n",
    "***\n",
    "\n",
    "[Data Dredging](https://en.wikipedia.org/wiki/Data_dredging) and [p-hacking](https://www.explainxkcd.com/wiki/index.php/882:_Significant) are umbrella terms for the dangerous practice of automatically testing a large number of hypotheses on the entirety or subsets of a single dataset in order to find statistically significant results. In this exercise we will focus on the idea of testing hypotheses on subsets of a single data set.  \n",
    "\n",
    "Johnny Nefarious has landed his first data science internship at an online marketing firm.  His primary summer project has been to design and test a new email advertisement for his company's best-selling product. To test his advertisement his supervisors have allowed him to send his ad to 4 targeted customer groups of 50 people every day for a month. \n",
    "\n",
    "The effectiveness of online advertising is typically measured by the ad's [click-through rate](https://en.wikipedia.org/wiki/Click-through_rate) (CTR), which is defined to be the _proportion_ of users that click on an advertisement. The company's standard email advertisement has a CTR of $0.05$.  Johnny is hoping to land a permanent position at the company when he graduates, so he's **really** motivated to show his supervisors that the CTR of his email advertisement is a (statistically) significant improvement over their previous ad. \n",
    "\n",
    "The data from Johnny's summer experiment can be found in email.csv. Load this dataset into Pandas. "
   ]
  },
  {
   "cell_type": "code",
   "execution_count": 84,
   "metadata": {},
   "outputs": [
    {
     "data": {
      "text/html": [
       "<div>\n",
       "<table border=\"1\" class=\"dataframe\">\n",
       "  <thead>\n",
       "    <tr style=\"text-align: right;\">\n",
       "      <th></th>\n",
       "      <th>Group</th>\n",
       "      <th>Date</th>\n",
       "      <th>Sent</th>\n",
       "      <th>Clicked</th>\n",
       "    </tr>\n",
       "  </thead>\n",
       "  <tbody>\n",
       "    <tr>\n",
       "      <th>0</th>\n",
       "      <td>1</td>\n",
       "      <td>NaN</td>\n",
       "      <td>50</td>\n",
       "      <td>1</td>\n",
       "    </tr>\n",
       "    <tr>\n",
       "      <th>1</th>\n",
       "      <td>1</td>\n",
       "      <td>Oct  2 2017</td>\n",
       "      <td>50</td>\n",
       "      <td>2</td>\n",
       "    </tr>\n",
       "    <tr>\n",
       "      <th>2</th>\n",
       "      <td>1</td>\n",
       "      <td>Oct  3 2017</td>\n",
       "      <td>50</td>\n",
       "      <td>4</td>\n",
       "    </tr>\n",
       "    <tr>\n",
       "      <th>3</th>\n",
       "      <td>1</td>\n",
       "      <td>NaN</td>\n",
       "      <td>50</td>\n",
       "      <td>5</td>\n",
       "    </tr>\n",
       "    <tr>\n",
       "      <th>4</th>\n",
       "      <td>1</td>\n",
       "      <td>Oct  5 2017</td>\n",
       "      <td>50</td>\n",
       "      <td>1</td>\n",
       "    </tr>\n",
       "  </tbody>\n",
       "</table>\n",
       "</div>"
      ],
      "text/plain": [
       "   Group         Date  Sent  Clicked\n",
       "0      1          NaN    50        1\n",
       "1      1  Oct  2 2017    50        2\n",
       "2      1  Oct  3 2017    50        4\n",
       "3      1          NaN    50        5\n",
       "4      1  Oct  5 2017    50        1"
      ]
     },
     "execution_count": 84,
     "metadata": {},
     "output_type": "execute_result"
    }
   ],
   "source": [
    "web = 'https://raw.githubusercontent.com/chrisketelsen/csci3022/master/hmwk/hmwk06/data/email.csv'\n",
    "dfEmail = pd.read_csv(web)\n",
    "dfEmail.head()"
   ]
  },
  {
   "cell_type": "markdown",
   "metadata": {},
   "source": [
    "**Part A**: State the null and alternate hypotheses that Johnny should test to see if his ad campaign is an improvement over the company's standard mailer with a CTR of $0.05$. "
   ]
  },
  {
   "cell_type": "markdown",
   "metadata": {
    "collapsed": true
   },
   "source": [
    "- The null hypothesis of $H_0: \\hat p = 0.05$\n",
    "- The alternate hypothesis of $H_1: \\hat p > 0.05$\n",
    "- The company standard of 0.05 is equal to the CTR of his ad campaign if the null hypothesis and the alternate hypothesis being the CTR that Johnny's ad campaign is greater then the company's standard."
   ]
  },
  {
   "cell_type": "markdown",
   "metadata": {},
   "source": [
    "**Part B**: Test the hypothesis from **Part A** at the $\\alpha = 0.05$ significance level using a p-value test. Is there sufficient evidence for Johnny to conclude that his ad campaign is an improvement?   "
   ]
  },
  {
   "cell_type": "code",
   "execution_count": 85,
   "metadata": {},
   "outputs": [
    {
     "name": "stdout",
     "output_type": "stream",
     "text": [
      "p-value: 0.228755715506\n"
     ]
    }
   ],
   "source": [
    "Email_total = dfEmail[\"Sent\"].sum()\n",
    "section_of_email = dfEmail[\"Clicked\"].sum()/Email_total\n",
    "section_std = (section_of_email*(1-section_of_email))/Email_total\n",
    "Email_z = (section_of_email - 0.05)/np.sqrt(section_std)\n",
    "Email_p = 1-stats.norm.cdf(Email_z)\n",
    "print (\"p-value:\", Email_p)"
   ]
  },
  {
   "cell_type": "markdown",
   "metadata": {},
   "source": [
    "Since the p-value is 0.229 is greater than 0.05 we fail to reject the null hypothesis. thus this means Johnny's ad campaign's CTR has not made a posative change to the company's standard CTR.   "
   ]
  },
  {
   "cell_type": "markdown",
   "metadata": {},
   "source": [
    "**Part C**: Bummer, Johnny thinks. This is the part where he decides to resort to some questionable science.  Maybe there is a reasonable subset of the data for which his alternative hypothesis is supported?  Can he find it?  Can he come up for a reasonable justification for why this subset of the data should be considered while the rest should be discarded? \n",
    "\n",
    "Here are the **rules**: Johnny cannot modify the original data (e.g. by adding nonexistent clicks to certain groups or days) because his boss will surely notice.  Instead he needs to find a subset of the data for which his hypothesis is supported by a p-value test at the $\\alpha = 0.05$ significance level _and_ be able to explain to his supervisors why his sub-selection of the data is reasonable.  \n",
    "\n",
    "In addition to your explanation of why your successful subset of the data is potentially reasonable, be sure to thoroughly explain the details of the tests that you perform and show all of your Python computation.  "
   ]
  },
  {
   "cell_type": "code",
   "execution_count": 162,
   "metadata": {},
   "outputs": [
    {
     "name": "stdout",
     "output_type": "stream",
     "text": [
      "p: 0.27432163580336966\n",
      "::::::::::::::::::::::::::::\n",
      "proportion for group 1 CTR: 0.0431578947368421\n",
      "p-value 1: 0.8503115253278757\n",
      "::::::::::::::::::::::::::::\n",
      "proportion for group 2 CTR: 0.05\n",
      "p-value 2: 0.5\n",
      "::::::::::::::::::::::::::::\n",
      "proportion for group 3 CTR: 0.07076923076923076\n",
      "p-value 3: 0.01946757306887692\n",
      "::::::::::::::::::::::::::::\n",
      "proportion for group 4 CTR: 0.050666666666666665\n",
      "p-value 4: 0.4668275519095737\n"
     ]
    }
   ],
   "source": [
    "mailed = dfCTR[\"Sent\"].sum()\n",
    "click = dfCTR[\"Clicked\"].sum()\n",
    "percent_STD = (click / mailed) * (1 - (click / mailed)) / mailed\n",
    "zalphaCTR = ((click / mailed) - 0.05) / percent_STD**(.5)\n",
    "pvCTR = 1 - stats.norm.cdf(zalphaCTR)\n",
    "print(\"p: {}\".format(pvCTR))\n",
    "print(\"::::::::::::::::::::::::::::\")\n",
    "\n",
    "gr1 = dfCTR.loc[dfCTR[\"Group\"] == 1]\n",
    "mailed_1 = gr1[\"Sent\"].sum()\n",
    "click_1 = gr1[\"Clicked\"].sum()\n",
    "percent_STD_1 = (click_1 / mailed_1) * (1 - (click_1 / mailed_1)) / mailed_1\n",
    "za1 = ((click_1 / mailed_1) - 0.05) / percent_STD_1**(.5)\n",
    "pv1 = 1 - stats.norm.cdf(za1)\n",
    "print(\"proportion for group 1 CTR: {}\".format(click_1 / mailed_1))\n",
    "print(\"p-value 1: {}\".format(pv1))\n",
    "print(\"::::::::::::::::::::::::::::\")\n",
    "\n",
    "gr2 = dfCTR.loc[dfCTR[\"Group\"] == 2]\n",
    "mailed_2 = gr2[\"Sent\"].sum()\n",
    "click_2 = gr2[\"Clicked\"].sum()\n",
    "percent_STD_2 = (click_2 / mailed_2) * (1 - (click_2 / mailed_2)) / mailed_2\n",
    "za2 = ((click_2 / mailed_2) - 0.05) / percent_STD_2**(.5)\n",
    "pv2 = 1 - stats.norm.cdf(za2)\n",
    "print(\"proportion for group 2 CTR: {}\".format(click_2 / mailed_2))\n",
    "print(\"p-value 2: {}\".format(pv2))\n",
    "print(\"::::::::::::::::::::::::::::\")\n",
    "\n",
    "gr3 = dfCTR.loc[dfCTR[\"Group\"] == 3]\n",
    "mailed_3 = gr3[\"Sent\"].sum()\n",
    "click_3 = gr3[\"Clicked\"].sum()\n",
    "percent_STD_3 = (click_3 / mailed_3) * (1 - (click_3 / mailed_3)) / mailed_3\n",
    "za3 = ((click_3 / mailed_3) - 0.05) / percent_STD_3**(.5)\n",
    "pv3 = 1 - stats.norm.cdf(za3)\n",
    "print(\"proportion for group 3 CTR: {}\".format(click_3 / mailed_3))\n",
    "print(\"p-value 3: {}\".format(pv3))\n",
    "print(\"::::::::::::::::::::::::::::\")\n",
    "\n",
    "gr4 = dfCTR.loc[dfCTR[\"Group\"] == 4]\n",
    "mailed_4 = gr4[\"Sent\"].sum()\n",
    "click_4 = gr4[\"Clicked\"].sum()\n",
    "percent_STD_4 = (click_4 / mailed_4) * (1 - (click_4 / mailed_4)) / mailed_4\n",
    "za4 = ((click_4 / mailed_4) - 0.05) / percent_STD_4**(.5)\n",
    "pv4 = 1 - stats.norm.cdf(za4)\n",
    "print(\"proportion for group 4 CTR: {}\".format(click_4 / mailed_4))\n",
    "print(\"p-value 4: {}\".format(pv4))"
   ]
  },
  {
   "cell_type": "markdown",
   "metadata": {},
   "source": [
    "We see that group 3 has the p-value of $0.019$ this is indeed lower than $0.05$ significance level. This means that we can reject the null hypothesis. Thus the best subset to use is from group 3's data which is supported by the alternate hypothesis."
   ]
  },
  {
   "cell_type": "markdown",
   "metadata": {},
   "source": [
    "### [20 points] Problem 6 - Simple Linear Regression for Gas Mileage \n",
    "***\n",
    "\n",
    "The data in auto.csv contains information on cars from the 1970s and 1980s. In this exercise you will construct a simple linear regression model for the response variable mpg with horsepower as the feature. Load the data into a Pandas DataFrame.    \n"
   ]
  },
  {
   "cell_type": "code",
   "execution_count": 102,
   "metadata": {},
   "outputs": [
    {
     "data": {
      "text/html": [
       "<div>\n",
       "<table border=\"1\" class=\"dataframe\">\n",
       "  <thead>\n",
       "    <tr style=\"text-align: right;\">\n",
       "      <th></th>\n",
       "      <th>model</th>\n",
       "      <th>year</th>\n",
       "      <th>mpg</th>\n",
       "      <th>cylinders</th>\n",
       "      <th>horsepower</th>\n",
       "      <th>weight</th>\n",
       "    </tr>\n",
       "  </thead>\n",
       "  <tbody>\n",
       "    <tr>\n",
       "      <th>0</th>\n",
       "      <td>chevrolet chevelle malibu</td>\n",
       "      <td>70</td>\n",
       "      <td>18.0</td>\n",
       "      <td>8</td>\n",
       "      <td>130.0</td>\n",
       "      <td>3504.0</td>\n",
       "    </tr>\n",
       "    <tr>\n",
       "      <th>1</th>\n",
       "      <td>buick skylark 320</td>\n",
       "      <td>70</td>\n",
       "      <td>15.0</td>\n",
       "      <td>8</td>\n",
       "      <td>165.0</td>\n",
       "      <td>3693.0</td>\n",
       "    </tr>\n",
       "    <tr>\n",
       "      <th>2</th>\n",
       "      <td>plymouth satellite</td>\n",
       "      <td>70</td>\n",
       "      <td>18.0</td>\n",
       "      <td>8</td>\n",
       "      <td>150.0</td>\n",
       "      <td>3436.0</td>\n",
       "    </tr>\n",
       "    <tr>\n",
       "      <th>3</th>\n",
       "      <td>amc rebel sst</td>\n",
       "      <td>70</td>\n",
       "      <td>16.0</td>\n",
       "      <td>8</td>\n",
       "      <td>150.0</td>\n",
       "      <td>3433.0</td>\n",
       "    </tr>\n",
       "    <tr>\n",
       "      <th>4</th>\n",
       "      <td>ford torino</td>\n",
       "      <td>70</td>\n",
       "      <td>17.0</td>\n",
       "      <td>8</td>\n",
       "      <td>140.0</td>\n",
       "      <td>3449.0</td>\n",
       "    </tr>\n",
       "  </tbody>\n",
       "</table>\n",
       "</div>"
      ],
      "text/plain": [
       "                       model  year   mpg  cylinders  horsepower  weight\n",
       "0  chevrolet chevelle malibu    70  18.0          8       130.0  3504.0\n",
       "1          buick skylark 320    70  15.0          8       165.0  3693.0\n",
       "2         plymouth satellite    70  18.0          8       150.0  3436.0\n",
       "3              amc rebel sst    70  16.0          8       150.0  3433.0\n",
       "4                ford torino    70  17.0          8       140.0  3449.0"
      ]
     },
     "execution_count": 102,
     "metadata": {},
     "output_type": "execute_result"
    }
   ],
   "source": [
    "web = 'https://raw.githubusercontent.com/chrisketelsen/csci3022/master/hmwk/hmwk06/data/auto.csv'\n",
    "dfAuto = pd.read_csv(web)\n",
    "dfAuto.head()"
   ]
  },
  {
   "cell_type": "markdown",
   "metadata": {},
   "source": [
    "**Part A**: Perform a simple linear regression with horsepower as the feature and mpg as the response.  Report the estimated regression model in the form $Y = \\alpha + \\beta x$. Do all computations in Python. "
   ]
  },
  {
   "cell_type": "code",
   "execution_count": 149,
   "metadata": {},
   "outputs": [
    {
     "name": "stdout",
     "output_type": "stream",
     "text": [
      "Fitted model: Y = 39.93586102117045 + -0.15784473335365354x\n"
     ]
    }
   ],
   "source": [
    "bhat, ahat, rval, pval, stderr = stats.linregress(dfAuto[\"horsepower\"],dfAuto[\"mpg\"])\n",
    "print('Fitted model: Y = {} + {}x'.format(ahat,bhat))"
   ]
  },
  {
   "cell_type": "markdown",
   "metadata": {},
   "source": [
    "**Part B**: Make a scatter-plot of the data with horsepower as the feature and mpg as the response and overlay the estimated regression line. \n"
   ]
  },
  {
   "cell_type": "code",
   "execution_count": 150,
   "metadata": {},
   "outputs": [
    {
     "data": {
      "text/plain": [
       "<matplotlib.legend.Legend at 0x7efd2d5b8ef0>"
      ]
     },
     "execution_count": 150,
     "metadata": {},
     "output_type": "execute_result"
    },
    {
     "data": {
      "image/png": "[encoded data removed]",
      "text/plain": [
       "<matplotlib.figure.Figure at 0x7efd2d667550>"
      ]
     },
     "metadata": {},
     "output_type": "display_data"
    }
   ],
   "source": [
    "fig, ax = plt.subplots(nrows=1,ncols=1,figsize=(8,6))\n",
    "x = np.linspace(50,240,50)\n",
    "line = ax.plot(x,x*bhat+ahat,color=\"blue\", alpha=0.5, label=\"Estimated linear regression line\")\n",
    "ax.set_xlabel(\"Horsepower\", fontsize=15)\n",
    "ax.set_ylabel(\"Miles per Gallon\", fontsize=15);\n",
    "ax.scatter(dfAuto[\"horsepower\"],dfAuto[\"mpg\"], color=\"orange\", label=\"Data Points\")\n",
    "plt.grid()\n",
    "plt.legend()"
   ]
  },
  {
   "cell_type": "markdown",
   "metadata": {},
   "source": [
    "**Part C**: Is the relationship between horsepower and mpg positive or negative? Justify your response. "
   ]
  },
  {
   "cell_type": "markdown",
   "metadata": {
    "collapsed": true
   },
   "source": [
    "The relationship between horsepower and mpg is negative. As the horsepower increased; mpg decreases. A stronger engine will use up fuel faster then a weaker engine. My explanation and graph both support my hypothesis."
   ]
  },
  {
   "cell_type": "markdown",
   "metadata": {},
   "source": [
    "**Part D**: Find a 95% confidence interval for the slope parameter.  Based on this confidence interval, is there sufficient evidence to believe, at the 95% confidence level, that there is a real relationship between horsepower and mpg? "
   ]
  },
  {
   "cell_type": "code",
   "execution_count": 158,
   "metadata": {},
   "outputs": [
    {
     "name": "stdout",
     "output_type": "stream",
     "text": [
      "SEB: 0.006445500517685024\n",
      "z_alpha/2:  1.9660653313\n",
      "95% t-confidence interval for slope parameter: [-0.17051700846435686, -0.14517245824295022]\n"
     ]
    }
   ],
   "source": [
    "x = dfAuto[\"horsepower\"]\n",
    "y = dfAuto[\"mpg\"]\n",
    "a = 1-0.05 / 2\n",
    "vertical = ahat + bhat*x\n",
    "SSE = ((y-vertical)**(2)).sum()\n",
    "n = dfAuto[\"horsepower\"].count()\n",
    "devhat = SSE / (n-2)\n",
    "SEB = (devhat / ((x-np.mean(x))**(2)).sum())**(0.5)\n",
    "print(\"SEB: {}\".format(SEB))\n",
    "ta = stats.t.ppf(a ,n-2)\n",
    "comp = (ta * SEB)\n",
    "CI_left = bhat - comp\n",
    "CI_right = bhat + comp\n",
    "print(\"z_alpha/2: \", ta)\n",
    "print(\"95% t-confidence interval for slope parameter: [{}, {}]\".format(CI_left,CI_right))"
   ]
  },
  {
   "cell_type": "markdown",
   "metadata": {},
   "source": [
    "The confidence interval does not contain zero and the values are negative, because of this we can say the relationship between the miles per gallon (mpg) and horsepower represent a negative relationship."
   ]
  },
  {
   "cell_type": "markdown",
   "metadata": {},
   "source": [
    "**Part E**: Double-check your result from **Part D** by performing an equivalent hypothesis test.  Be sure to state your null and alternative hypotheses and explain your general methodology.  Do your conclusions agree with those made in **Part D**? "
   ]
  },
  {
   "cell_type": "code",
   "execution_count": 159,
   "metadata": {},
   "outputs": [
    {
     "name": "stdout",
     "output_type": "stream",
     "text": [
      "p-value: 7.0319890294e-81\n"
     ]
    }
   ],
   "source": [
    "n = dfAuto[\"horsepower\"].count()\n",
    "p = bhat / SEB\n",
    "t_test = 2*(stats.t.cdf(p, n-2))\n",
    "print(\"p-value:\", t_test)"
   ]
  },
  {
   "cell_type": "markdown",
   "metadata": {},
   "source": [
    "- Null hypothesis of $H_0: \\beta = 0$\n",
    "- Alternate hypothesis of $H_1: \\beta \\neq 0$\n",
    "- To see if our hypothesis is correct we need to reject the null hypothesis. This will tell us that their is indeed a relationship between miles per gallon (mpg) and horsepower if it not zero.\n",
    "- Since in our p-value is less than 0.05, their is a relationship between miles per gallon (mpg) and horsepower."
   ]
  },
  {
   "cell_type": "code",
   "execution_count": 160,
   "metadata": {},
   "outputs": [
    {
     "name": "stdout",
     "output_type": "stream",
     "text": [
      "p-value: 2.98655687666e-81\n"
     ]
    }
   ],
   "source": [
    "n = dfAuto[\"horsepower\"].count()\n",
    "p = bhat / SEB\n",
    "t_test = stats.t.cdf(t, n-1)\n",
    "print(\"p-value:\", t_test)"
   ]
  },
  {
   "cell_type": "markdown",
   "metadata": {},
   "source": [
    "- To further support our conclusion, we can so another hypothesis.\n",
    "- Null hypothesis of $H_0: \\beta = 0$\n",
    "- Alternate hypothesis of $H_1: \\beta < 0$\n",
    "- This proves the slope is negative if we can reject the null hypothesis.\n",
    "- Since the p-value is less than 0.05, we can reject the null hypothesis and this also shows there is a negative relationship between miles per gallon (mpg) and horsepower."
   ]
  },
  {
   "cell_type": "markdown",
   "metadata": {},
   "source": [
    "**Part F**: What gas mileage would your simple linear regression model predict for a car with a horsepower of $97$? "
   ]
  },
  {
   "cell_type": "code",
   "execution_count": 155,
   "metadata": {},
   "outputs": [
    {
     "name": "stdout",
     "output_type": "stream",
     "text": [
      "The gas mileage with my simple linear regression would predict for a car with a horsepower of 97 is: 24.6249218859 miles per gallon\n"
     ]
    }
   ],
   "source": [
    "m = ahat + 97*bhat\n",
    "print(\"The gas mileage with my simple linear regression would predict for a car with a horsepower of 97 is:\", m, \"miles per gallon\")"
   ]
  }
 ],
 "metadata": {
  "kernelspec": {
   "display_name": "Python 3",
   "language": "python",
   "name": "python3"
  },
  "language_info": {
   "codemirror_mode": {
    "name": "ipython",
    "version": 3
   },
   "file_extension": ".py",
   "mimetype": "text/x-python",
   "name": "python",
   "nbconvert_exporter": "python",
   "pygments_lexer": "ipython3",
   "version": "3.5.4"
  }
 },
 "nbformat": 4,
 "nbformat_minor": 2
}
